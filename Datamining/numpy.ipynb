{
 "cells": [
  {
   "cell_type": "code",
   "execution_count": 1,
   "metadata": {},
   "outputs": [
    {
     "name": "stdout",
     "output_type": "stream",
     "text": [
      "Requirement already satisfied: numpy in /opt/homebrew/anaconda3/lib/python3.11/site-packages (1.24.3)\n",
      "Note: you may need to restart the kernel to use updated packages.\n"
     ]
    }
   ],
   "source": [
    "pip install numpy"
   ]
  },
  {
   "cell_type": "markdown",
   "metadata": {},
   "source": [
    "# Numpy 배열 생성"
   ]
  },
  {
   "cell_type": "code",
   "execution_count": 4,
   "metadata": {},
   "outputs": [
    {
     "name": "stdout",
     "output_type": "stream",
     "text": [
      "배열 출력\n",
      "[[1 2]\n",
      " [3 4]]\n",
      "배열의 차수 출력\n",
      "2\n",
      "배열의 모양\n",
      "(2, 2)\n",
      "배열의 원소 접근\n",
      "1 2 3 4\n"
     ]
    }
   ],
   "source": [
    "import numpy as np\n",
    "\n",
    "a = [[1,2],[3,4]]\n",
    "b = np.array(a)\n",
    "print('배열 출력')\n",
    "print(b)\n",
    "\n",
    "print('배열의 차수 출력')\n",
    "print(b.ndim)\n",
    "\n",
    "print('배열의 모양')\n",
    "print(b.shape)\n",
    "\n",
    "print('배열의 원소 접근')\n",
    "print(b[0,0], b[0,1], \n",
    "      b[1,0], b[1,1])"
   ]
  },
  {
   "cell_type": "code",
   "execution_count": 5,
   "metadata": {},
   "outputs": [
    {
     "name": "stdout",
     "output_type": "stream",
     "text": [
      "1씩 증가하는 배열\n",
      "[0 1 2 3 4 5 6 7 8 9]\n",
      "[3 4 5 6 7 8 9]\n",
      "영행렬 생성\n",
      "[[0. 0.]\n",
      " [0. 0.]]\n",
      "유닛 행렬\n",
      "[[1. 1. 1.]\n",
      " [1. 1. 1.]]\n",
      "모든 원소가 5인 2x4 행렬\n",
      "[[5 5 5 5]\n",
      " [5 5 5 5]]\n",
      "단위 행렬\n",
      "[[1. 0. 0. 0.]\n",
      " [0. 1. 0. 0.]\n",
      " [0. 0. 1. 0.]\n",
      " [0. 0. 0. 1.]]\n"
     ]
    }
   ],
   "source": [
    "print('1씩 증가하는 배열')\n",
    "print(np.arange(10))\n",
    "print(np.arange(3,10))\n",
    "\n",
    "print(\"영행렬 생성\")\n",
    "print(np.zeros((2,2)))\n",
    "\n",
    "print(\"유닛 행렬\")\n",
    "print(np.ones((2,3)))\n",
    "\n",
    "print(\"모든 원소가 5인 2x4 행렬\")\n",
    "print(np.full((2,4), 5))\n",
    "\n",
    "print(\"단위 행렬\")\n",
    "print(np.eye(4))"
   ]
  },
  {
   "cell_type": "code",
   "execution_count": 12,
   "metadata": {},
   "outputs": [
    {
     "name": "stdout",
     "output_type": "stream",
     "text": [
      "차원 변환\n",
      "[0 1 2 3 4 5 6 7 8 9]\n"
     ]
    }
   ],
   "source": [
    "print(\"차원 변환\")\n",
    "a = np.arange(10)\n",
    "print(a)"
   ]
  },
  {
   "cell_type": "markdown",
   "metadata": {},
   "source": [
    "# 배열 슬라이싱/ 인덱싱"
   ]
  },
  {
   "cell_type": "code",
   "execution_count": 11,
   "metadata": {},
   "outputs": [
    {
     "name": "stdout",
     "output_type": "stream",
     "text": [
      "[[1 2 3]\n",
      " [4 5 6]\n",
      " [7 8 9]]\n",
      "[[2 3]\n",
      " [5 6]\n",
      " [8 9]]\n",
      "6\n",
      "15\n",
      "[[ 2  3]\n",
      " [ 5 15]\n",
      " [ 8  9]]\n",
      "[[ 1  2  3]\n",
      " [ 4  5 15]\n",
      " [ 7  8  9]]\n"
     ]
    }
   ],
   "source": [
    "array_test = np.array([[1,2,3],[4,5,6],[7,8,9]])\n",
    "print(array_test)\n",
    "\n",
    "arr1 = array_test[0:3,1:3] #3행을 출력하고 열의 인뎃스 1부터 2개를 출력\n",
    "print(arr1)\n",
    "\n",
    "print(arr1[1,1]) #arr1의 [1,1]의 값을 출력\n",
    "arr1[1,1] = 15 #arr1의 [1,1]의 값을 15로 변경\n",
    "print(arr1[1,1]) #arr1의 [1,1]의 값을 출력\n",
    "print(arr1) #arr1의 값을 출력 \n",
    "print(array_test) #원본 배열 출력\n",
    "                  "
   ]
  },
  {
   "cell_type": "markdown",
   "metadata": {},
   "source": [
    "배열의 슬라이싱 주의점\n",
    "- 슬라이싱 된 배열은 원본 배열과 같은 데이터를 참조하기 때문에, 슬라이싱 된 배열을 수정하면 원본 배열 역시 수정됨\n",
    "\n",
    "다차원 슬라이싱\n",
    "- 배열은 여러 차원으로 슬라이싱 가능함\n",
    "- 2차원 배열을 1차원으로 슬라이싱 가능함"
   ]
  },
  {
   "cell_type": "code",
   "execution_count": 13,
   "metadata": {},
   "outputs": [
    {
     "name": "stdout",
     "output_type": "stream",
     "text": [
      "[[1 2 3]\n",
      " [4 5 6]\n",
      " [7 8 9]]\n",
      "2 차 배열\n",
      "\n",
      "[[4 5 6]\n",
      " [7 8 9]]\n",
      "2 차 배열\n"
     ]
    }
   ],
   "source": [
    "#다차원 슬라이싱\n",
    "array_test = np.array([[1,2,3],[4,5,6],[7,8,9]])\n",
    "print(array_test)\n",
    "print(array_test.ndim, \"차 배열\")\n",
    "print()\n",
    "\n",
    "arr1 = array_test[1:]\n",
    "print(arr1)\n",
    "print(arr1.ndim, \"차 배열\")"
   ]
  },
  {
   "cell_type": "code",
   "execution_count": 14,
   "metadata": {},
   "outputs": [
    {
     "name": "stdout",
     "output_type": "stream",
     "text": [
      "[[1 2 3]\n",
      " [4 5 6]\n",
      " [7 8 9]]\n",
      "\n",
      "[1 5 7]\n"
     ]
    }
   ],
   "source": [
    "#정수 배열 인덱싱\n",
    "array_test = np.array([[1,2,3],[4,5,6],[7,8,9]])    \n",
    "\n",
    "print(array_test)\n",
    "print()\n",
    "\n",
    "arr1 = array_test[[0,1,2],[0,1,0]]\n",
    "print(arr1)"
   ]
  },
  {
   "cell_type": "code",
   "execution_count": 16,
   "metadata": {},
   "outputs": [
    {
     "name": "stdout",
     "output_type": "stream",
     "text": [
      "[ 2  4  6  7 10 12 14 16 18 20]\n",
      "\n",
      "[0 0 0 1 1 2 3 4 4 4 5 5 5 6 6 6 7 8 9]\n",
      "\n",
      "[ 2  2  2  4  4  6  7 10 10 10 12 12 12 14 14 14 16 18 20]\n"
     ]
    }
   ],
   "source": [
    "#정수 배열 인덱싱 활용\n",
    "\n",
    "#원본 배열의 크기보다 더 큰 배열 만들기\n",
    "array_test = np.array([2,4,6,7,10,12,14,16,18,20])\n",
    "print(array_test)\n",
    "print()\n",
    "\n",
    "arr1 = np.array([0,0,0,1,1,2,3,4,4,4,5,5,5,6,6,6,7,8,9])\n",
    "print(arr1)\n",
    "print()\n",
    "\n",
    "arr2 = array_test[arr1]\n",
    "print(arr2)"
   ]
  },
  {
   "cell_type": "code",
   "execution_count": 17,
   "metadata": {},
   "outputs": [
    {
     "name": "stdout",
     "output_type": "stream",
     "text": [
      "[[1 2 3]\n",
      " [4 5 6]\n",
      " [7 8 9]]\n",
      "\n",
      "[[7 8 9]\n",
      " [1 2 3]\n",
      " [4 5 6]]\n",
      "\n",
      "[2 2]\n"
     ]
    }
   ],
   "source": [
    "#정수 배열 인덱싱 활용\n",
    "array_test = np.array([[1,2,3],[4,5,6],[7,8,9]])\n",
    "print(array_test)\n",
    "print()\n",
    "\n",
    "arr1 = array_test[[2,0,1],:]\n",
    "print(arr1)\n",
    "print()\n",
    "\n",
    "arr2 = array_test[[0,0], [1,1]]\n",
    "print(arr2)"
   ]
  },
  {
   "cell_type": "markdown",
   "metadata": {},
   "source": [
    "# 배열 사이의 연산"
   ]
  },
  {
   "cell_type": "code",
   "execution_count": 18,
   "metadata": {},
   "outputs": [
    {
     "name": "stdout",
     "output_type": "stream",
     "text": [
      "[5 7 9]\n",
      "[5 7 9]\n",
      "\n",
      "[-3 -3 -3]\n",
      "[-3 -3 -3]\n",
      "\n",
      "[ 4 10 18]\n",
      "[ 4 10 18]\n",
      "\n",
      "[0.25 0.4  0.5 ]\n",
      "[0.25 0.4  0.5 ]\n",
      "\n"
     ]
    }
   ],
   "source": [
    "import numpy as np\n",
    "\n",
    "a = np.array([1,2,3])\n",
    "b = np.array([4,5,6])\n",
    "\n",
    "#더하기\n",
    "c = a+b\n",
    "d = np.add(a,b)\n",
    "print(c)\n",
    "print(d)\n",
    "print()\n",
    "\n",
    "#빼기\n",
    "c = a-b\n",
    "d = np.subtract(a,b)\n",
    "print(c)\n",
    "print(d)\n",
    "print()\n",
    "\n",
    "#곱하기\n",
    "c = a*b\n",
    "d = np.multiply(a,b)\n",
    "print(c)\n",
    "print(d)\n",
    "print()\n",
    "\n",
    "#나누기\n",
    "c = a/b\n",
    "d = np.divide(a,b)\n",
    "print(c)\n",
    "print(d)\n",
    "print()\n",
    "\n"
   ]
  },
  {
   "cell_type": "code",
   "execution_count": 19,
   "metadata": {},
   "outputs": [
    {
     "name": "stdout",
     "output_type": "stream",
     "text": [
      "dot 함수 테스트\n",
      "[[19 22]\n",
      " [43 50]]\n",
      "\n"
     ]
    }
   ],
   "source": [
    "a = np.array([[1,2], [3,4]])\n",
    "b = np.array([[5,6], [7,8]])\n",
    "\n",
    "c = np.dot(a,b)\n",
    "print(\"dot 함수 테스트\")\n",
    "print(c)\n",
    "print()"
   ]
  },
  {
   "cell_type": "markdown",
   "metadata": {},
   "source": [
    "1X5+2X7 / 1X6+2X8  \n",
    "3X5+4X7 / 3X6+4X8"
   ]
  },
  {
   "cell_type": "code",
   "execution_count": 24,
   "metadata": {},
   "outputs": [
    {
     "name": "stdout",
     "output_type": "stream",
     "text": [
      "sum 함수 테스트\n",
      "19\n",
      "\n",
      "prod함수 테스트\n",
      "-576\n",
      "\n",
      "axis= 테스트\n",
      "열의 합\n",
      "[ 2  6 11]\n",
      "행의 합\n",
      "[ 4 15]\n",
      "\n",
      "mean 함수 테스트\n",
      "3.1666666666666665\n",
      "\n",
      "std함수 테스트\n",
      "2.6718699236469\n"
     ]
    }
   ],
   "source": [
    "d = np.array([[-1,2,3], [3,4,8]])\n",
    "s = np.sum(d)\n",
    "print(\"sum 함수 테스트\")\n",
    "print(s)\n",
    "print()\n",
    "\n",
    "print(\"prod함수 테스트\")\n",
    "print(np.prod(d))\n",
    "print()\n",
    "\n",
    "print(\"axis= 테스트\")\n",
    "print(\"열의 합\")\n",
    "print(np.sum(d, axis=0))\n",
    "print(\"행의 합\")\n",
    "print(np.sum(d, axis=1))\n",
    "print()\n",
    "\n",
    "print(\"mean 함수 테스트\")\n",
    "print(d.mean())\n",
    "print()\n",
    "\n",
    "print(\"std함수 테스트\")\n",
    "print(d.std())"
   ]
  },
  {
   "cell_type": "markdown",
   "metadata": {},
   "source": [
    "# 배열 브로드 캐스트"
   ]
  },
  {
   "cell_type": "code",
   "execution_count": 25,
   "metadata": {},
   "outputs": [
    {
     "name": "stdout",
     "output_type": "stream",
     "text": [
      "(2, 3)\n",
      "(3,)\n",
      "[[10 22 36]\n",
      " [40 55 72]]\n"
     ]
    }
   ],
   "source": [
    "a = np.array([[1,2,3], [4,5,6]])\n",
    "b = np.array([10, 11, 12])\n",
    "\n",
    "print(a.shape)\n",
    "print(b.shape)\n",
    "\n",
    "c = a*b\n",
    "\n",
    "print(c)"
   ]
  },
  {
   "cell_type": "code",
   "execution_count": 32,
   "metadata": {},
   "outputs": [
    {
     "name": "stdout",
     "output_type": "stream",
     "text": [
      "[[ 3  5 11 20 24]\n",
      " [ 2  4 16 22 18]\n",
      " [19  6 13  1 21]\n",
      " [ 7 10 12 14 23]\n",
      " [25  9  8 15 17]]\n",
      "\n",
      "배열의 최소값의 인덱스\n",
      "13\n",
      "13\n",
      "\n",
      "배열의 최대값의 인덱스\n",
      "20\n",
      "20\n",
      "\n",
      "[1 1 4 2 4]\n",
      "[4 3 1 1 0]\n",
      "\n",
      "분산\n",
      "52.0\n",
      "\n",
      "오름차수 정렬\n",
      "[[ 3  5 11 20 24]\n",
      " [ 2  4 16 18 22]\n",
      " [ 1  6 13 19 21]\n",
      " [ 7 10 12 14 23]\n",
      " [ 8  9 15 17 25]]\n",
      "\n",
      "[[ 8  9 15 17 25]\n",
      " [ 7 10 12 14 23]\n",
      " [ 1  6 13 19 21]\n",
      " [ 2  4 16 18 22]\n",
      " [ 3  5 11 20 24]]\n",
      "\n",
      "[[ 2  4  8  1 17]\n",
      " [ 3  5 11 14 18]\n",
      " [ 7  6 12 15 21]\n",
      " [19  9 13 20 23]\n",
      " [25 10 16 22 24]]\n"
     ]
    }
   ],
   "source": [
    "a = np.array([[3,5,11,20,24],\n",
    "              [2,4,16,22,18],\n",
    "              [19,6,13,1,21],\n",
    "              [7,10,12,14,23],\n",
    "              [25,9,8,15,17]])\n",
    "\n",
    "print(a)\n",
    "print()\n",
    "\n",
    "print(\"배열의 최소값의 인덱스\")\n",
    "print(a.argmin())\n",
    "print(np.argmin(a))\n",
    "print()\n",
    "\n",
    "print(\"배열의 최대값의 인덱스\")\n",
    "print(a.argmax())\n",
    "print(np.argmax(a))\n",
    "print()\n",
    "\n",
    "print(np.argmin(a, axis=0))\n",
    "print(np.argmax(a, axis=0))\n",
    "print()\n",
    "\n",
    "print(\"분산\")\n",
    "print(a.var())\n",
    "print()\n",
    "\n",
    "print(\"오름차수 정렬\")\n",
    "print(np.sort(a))\n",
    "print()\n",
    "print(np.sort(a)[::-1])\n",
    "print()\n",
    "print(np.sort(a, axis=0))"
   ]
  },
  {
   "cell_type": "markdown",
   "metadata": {},
   "source": [
    "# 난수 생성"
   ]
  },
  {
   "cell_type": "code",
   "execution_count": 33,
   "metadata": {},
   "outputs": [
    {
     "name": "stdout",
     "output_type": "stream",
     "text": [
      "[0.60662298 0.01937511 0.07377125 0.12908613 0.64365152]\n",
      "\n",
      "[[-1.23349776  0.26800179]\n",
      " [ 0.20104373  0.18480416]\n",
      " [-0.09087646 -1.29286332]]\n"
     ]
    }
   ],
   "source": [
    "a = np.random.rand(5)\n",
    "print(a)\n",
    "print()\n",
    "\n",
    "b = np.random.randn(3,2)\n",
    "print(b)"
   ]
  },
  {
   "cell_type": "code",
   "execution_count": 36,
   "metadata": {},
   "outputs": [
    {
     "data": {
      "image/png": "[encoded data removed]",
      "text/plain": [
       "<Figure size 1000x600 with 1 Axes>"
      ]
     },
     "metadata": {},
     "output_type": "display_data"
    }
   ],
   "source": [
    "#random.rand() 시각화\n",
    "import matplotlib.pyplot as plt\n",
    "\n",
    "np.random.seed(0) #재실행 시키더라도 동일한 결과값을 얻음\n",
    "\n",
    "#runtime configuration Rarameters : 그림 그리기 위한 설정값\n",
    "plt.style.use('default')\n",
    "plt.rcParams['figure.figsize'] = (10,6)\n",
    "plt.rcParams['font.size'] = 12\n",
    "\n",
    "a = np.random.rand(1000)\n",
    "b = np.random.rand(10000)\n",
    "c = np.random.rand(100000)\n",
    "\n",
    "#히스토그램\n",
    "plt.hist(a, bins=100, density=True, alpha=0.5, histtype='step', label='n=1000')\n",
    "plt.hist(b, bins=100, density=True, alpha=0.75, histtype='step', label='n=10000')\n",
    "plt.hist(c, bins=100, density=True, alpha=1.0, histtype='step', label='n=100000')\n",
    "\n",
    "#y축 표시값\n",
    "plt.ylim(0, 2.5)\n",
    "plt.legend()\n",
    "plt.show()"
   ]
  },
  {
   "cell_type": "code",
   "execution_count": 37,
   "metadata": {},
   "outputs": [
    {
     "name": "stdout",
     "output_type": "stream",
     "text": [
      "[0 1 0 0 0]\n",
      "\n",
      "[3 2 2 3 2]\n",
      "\n",
      "[[1 1 4]\n",
      " [3 2 2]]\n",
      "\n"
     ]
    }
   ],
   "source": [
    "#randint() \n",
    "\n",
    "a = np.random.randint(2, size=5)\n",
    "print(a)\n",
    "print()\n",
    "\n",
    "b = np.random.randint(2, 4, size=5)\n",
    "print(b)\n",
    "print()\n",
    "\n",
    "c = np.random.randint(1, 5, size=(2,3))\n",
    "print(c)\n",
    "print()"
   ]
  },
  {
   "cell_type": "code",
   "execution_count": 40,
   "metadata": {},
   "outputs": [
    {
     "data": {
      "image/png": "[encoded data removed]",
      "text/plain": [
       "<Figure size 1000x600 with 1 Axes>"
      ]
     },
     "metadata": {},
     "output_type": "display_data"
    }
   ],
   "source": [
    "plt.style.use('default')\n",
    "plt.rcParams['figure.figsize'] = (10,6)\n",
    "plt.rcParams['font.size'] = 12\n",
    "\n",
    "#0~10 범위의 임의의 정수 1000개 생성\n",
    "a = np.random.randint(0, 10, 1000)\n",
    "#10~20 범위의 임의의 정수 1000개 생성\n",
    "b = np.random.randint(10, 20, 1000)\n",
    "#0~20 범위의 임의의 정수 1000개 생성\n",
    "c = np.random.randint(0, 20, 1000)\n",
    "\n",
    "plt.hist(a, bins=100, density=False, alpha=0.5, histtype='step', label='0<=randint<10')\n",
    "plt.hist(b, bins=100, density=False, alpha=0.75, histtype='step', label='10<=randint<20')\n",
    "plt.hist(c, bins=100, density=False, alpha=1.0, histtype='step', label='0<=randint<20')\n",
    "\n",
    "plt.ylim(0, 150)\n",
    "plt.legend()\n",
    "plt.show()"
   ]
  },
  {
   "cell_type": "code",
   "execution_count": 41,
   "metadata": {},
   "outputs": [
    {
     "name": "stdout",
     "output_type": "stream",
     "text": [
      "[1 0 2]\n",
      "\n",
      "[[7 1 6]\n",
      " [7 6 0]]\n"
     ]
    }
   ],
   "source": [
    "#random.choice()\n",
    "\n",
    "a = np.random.choice(5, 3)\n",
    "b = np.random.choice(10, (2,3))\n",
    "\n",
    "print(a)\n",
    "print()\n",
    "print(b)"
   ]
  },
  {
   "cell_type": "code",
   "execution_count": 42,
   "metadata": {},
   "outputs": [
    {
     "data": {
      "image/png": "[encoded data removed]",
      "text/plain": [
       "<Figure size 1000x600 with 1 Axes>"
      ]
     },
     "metadata": {},
     "output_type": "display_data"
    }
   ],
   "source": [
    "plt.style.use('default')\n",
    "plt.rcParams['figure.figsize'] = (10,6)\n",
    "plt.rcParams['font.size'] = 12\n",
    "\n",
    "a = np.random.choice(10, 1000)\n",
    "b = np.random.choice([0, 1, 2, 4,8], 1000)\n",
    "\n",
    "plt.hist(a, bins=100, density=False, alpha=0.75, histtype='step', label='Sample np.arange(5)')\n",
    "plt.hist(b, bins=100, density=False, alpha=0.75, histtype='step', label='Sample [0,1,2,4,8]')\n",
    "\n",
    "plt.ylim(0, 300)\n",
    "plt.legend()\n",
    "plt.show()\n"
   ]
  },
  {
   "cell_type": "code",
   "execution_count": 44,
   "metadata": {},
   "outputs": [
    {
     "name": "stdout",
     "output_type": "stream",
     "text": [
      "[4 0 3]\n",
      "\n",
      "[[3 7 9]\n",
      " [3 5 2]]\n"
     ]
    }
   ],
   "source": [
    "#random.seed() : 난수 생성에 필요한 시드 설정, 실행할 때 마다 동일한 난수를 생성\n",
    "\n",
    "np.random.seed(0)\n",
    "\n",
    "a = np.random.choice(5, 3)\n",
    "b = np.random.choice(10, (2,3))\n",
    "\n",
    "print(a)\n",
    "print()\n",
    "print(b)"
   ]
  }
 ],
 "metadata": {
  "kernelspec": {
   "display_name": "base",
   "language": "python",
   "name": "python3"
  },
  "language_info": {
   "codemirror_mode": {
    "name": "ipython",
    "version": 3
   },
   "file_extension": ".py",
   "mimetype": "text/x-python",
   "name": "python",
   "nbconvert_exporter": "python",
   "pygments_lexer": "ipython3",
   "version": "3.11.5"
  }
 },
 "nbformat": 4,
 "nbformat_minor": 2
}
