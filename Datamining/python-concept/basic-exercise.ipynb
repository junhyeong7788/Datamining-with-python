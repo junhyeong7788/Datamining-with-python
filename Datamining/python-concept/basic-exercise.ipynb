{
 "cells": [
  {
   "cell_type": "code",
   "execution_count": 2,
   "metadata": {},
   "outputs": [
    {
     "name": "stdout",
     "output_type": "stream",
     "text": [
      "오늘은 2023년 10월 22일, 날씨는 흐림입니다.\n"
     ]
    }
   ],
   "source": [
    "str = \"오늘은 %4d년 %02d월 %02d일, 날씨는 %s입니다.\"\n",
    "\n",
    "year = int(input(\"연도를 입력하세요: \"))\n",
    "month = int(input(\"월을 입력하세요: \"))\n",
    "day = int(input(\"일을 입력하세요: \"))\n",
    "weather = input(\"날씨를 입력하세요: \")\n",
    "\n",
    "print(str % (year, month, day, weather))"
   ]
  },
  {
   "cell_type": "code",
   "execution_count": 4,
   "metadata": {},
   "outputs": [
    {
     "name": "stdout",
     "output_type": "stream",
     "text": [
      " 입력받은 문자열은 hello world!이고, 길이는 12입니다 \n"
     ]
    }
   ],
   "source": [
    "str = input(\"문자열을 입력하세요 : \\n\")\n",
    "str_len = len(str)\n",
    "\n",
    "print(\" 입력받은 문자열은 %s이고, 길이는 %d입니다 \" %(str, str_len))"
   ]
  },
  {
   "cell_type": "code",
   "execution_count": 5,
   "metadata": {},
   "outputs": [
    {
     "name": "stdout",
     "output_type": "stream",
     "text": [
      "입력한 문자열 ab ab abc abcd에는 ab가 4개 있습니다.\n"
     ]
    }
   ],
   "source": [
    "str = input(\"문자열을 입력하세요 : \\n\")\n",
    "str2 = input(\"검색할 문자열을 입력하세요 : \\n\")\n",
    "\n",
    "count = str.count(str2)\n",
    "\n",
    "print(\"입력한 문자열 %s에는 %s가 %d개 있습니다.\" %(str, str2, count))   "
   ]
  },
  {
   "cell_type": "code",
   "execution_count": 6,
   "metadata": {},
   "outputs": [
    {
     "name": "stdout",
     "output_type": "stream",
     "text": [
      "4\n",
      "4\n"
     ]
    }
   ],
   "source": [
    "str = input(\"문자열을 입력하세요 : \")\n",
    "str2 = input(\"검색할 문자열을 입력하세요 : \")\n",
    "\n",
    "print(str.find(str2)) # 문자열이 없으면 -1을 반환, 있으면 문자열의 인덱스 반환\n",
    "print(str.index(str2)) # 문자열이 없으면 오류 발생 , 있으면 문자열의 인덱스 반환"
   ]
  },
  {
   "cell_type": "code",
   "execution_count": 1,
   "metadata": {},
   "outputs": [
    {
     "name": "stdout",
     "output_type": "stream",
     "text": [
      "ABCD\n",
      "abcd\n"
     ]
    }
   ],
   "source": [
    "str = input(\"문자열을 입력하세요 : \")\n",
    "\n",
    "print(str.upper())\n",
    "print(str.lower())"
   ]
  },
  {
   "cell_type": "code",
   "execution_count": 17,
   "metadata": {},
   "outputs": [
    {
     "name": "stdout",
     "output_type": "stream",
     "text": [
      "응시했습니다.\n",
      "F학점 입니다.\n"
     ]
    }
   ],
   "source": [
    "key = int(input(\"시험 응시 여부를 입력하세요(응시 : 1, 미응시 : 1이외의 수) : \"))\n",
    "\n",
    "\n",
    "if key == 1 : #콜론 포함 필수 !\n",
    "    print(\"응시했습니다.\")\n",
    "    grade = int(input(\"점수를 입력하세요 : \"))\n",
    "\n",
    "    if grade > 90 : #if 다음엔 if못쓰고 else써야함\n",
    "        print(\"A학점 입니다.\")\n",
    "    else :\n",
    "        if grade > 80 : \n",
    "            print(\"B학점 입니다.\")\n",
    "        else :\n",
    "            if grade > 70 :\n",
    "                print(\"C학점 입니다.\")\n",
    "            else :\n",
    "                if grade > 60 :\n",
    "                    print(\"D학점 입니다.\")\n",
    "                else : \n",
    "                    print(\"F학점 입니다.\")\n",
    "else :\n",
    "    print(\"미응시했습니다\")\n",
    "    \n"
   ]
  },
  {
   "cell_type": "code",
   "execution_count": 28,
   "metadata": {},
   "outputs": [
    {
     "name": "stdout",
     "output_type": "stream",
     "text": [
      "응시했습니다.\n",
      "F학점 입니다.\n"
     ]
    }
   ],
   "source": [
    "key = int(input(\"시험 응시 여부를 입력하세요(응시 : 1, 미응시 : 1이외의 수) : \"))\n",
    "\n",
    "\n",
    "if key == 1 : #콜론 포함 필수 !\n",
    "    print(\"응시했습니다.\")\n",
    "    grade = int(input(\"점수를 입력하세요 : \"))\n",
    "\n",
    "    if (grade > 90 and grade <= 100) : #if 다음엔 if못쓰고 else써야함\n",
    "        print(\"A학점 입니다.\")\n",
    "    else :\n",
    "        if (grade > 80 and grade <= 90) : \n",
    "            print(\"B학점 입니다.\")\n",
    "        else :\n",
    "            if (grade > 70 and grade <= 80) :\n",
    "                print(\"C학점 입니다.\")\n",
    "            else :\n",
    "                if (grade > 60 and grade <= 70) :\n",
    "                    print(\"D학점 입니다.\")\n",
    "                else :\n",
    "                    if (grade > 0 and grade <= 60) :\n",
    "                        print(\"F학점 입니다.\")\n",
    "                    else : \n",
    "                        print(\"0~100사이의 점수를 입력하세요\")\n",
    "else :\n",
    "    print(\"미응시했습니다\")\n",
    "    \n"
   ]
  },
  {
   "cell_type": "code",
   "execution_count": 19,
   "metadata": {},
   "outputs": [
    {
     "name": "stdout",
     "output_type": "stream",
     "text": [
      "2을(를) 입력하였습니다.\n"
     ]
    }
   ],
   "source": [
    "s = [1, 2 ,3]\n",
    "\n",
    "x = int(input(\"1~3사이의 수를 입력하세요 : \"))\n",
    "\n",
    "if(x in s) :\n",
    "    print(\"%d을(를) 입력하였습니다.\" %(x))\n",
    "else :\n",
    "    print(\"%d은(는) 없는 숫자입니다\" %(x))"
   ]
  },
  {
   "cell_type": "code",
   "execution_count": 22,
   "metadata": {},
   "outputs": [
    {
     "name": "stdout",
     "output_type": "stream",
     "text": [
      "응시했습니다.\n",
      "A학점 입니다.\n"
     ]
    }
   ],
   "source": [
    "#중첩제어문 사용\n",
    "key = int(input(\"시험 응시 여부를 입력하세요(응시 : 1, 미응시 : 1이외의 수) : \"))\n",
    "\n",
    "\n",
    "if key == 1 : #콜론 포함 필수 !\n",
    "    print(\"응시했습니다.\")\n",
    "    grade = int(input(\"점수를 입력하세요 : \"))\n",
    "\n",
    "    if (grade > 90 and grade <= 100) : #elif 중첩제어문 사용\n",
    "        print(\"A학점 입니다.\")\n",
    "    elif (grade > 80 and grade <= 90) : \n",
    "        print(\"B학점 입니다.\")\n",
    "    elif (grade > 70 and grade <= 80) :\n",
    "        print(\"C학점 입니다.\")\n",
    "    elif (grade > 60 and grade <= 70) :\n",
    "        print(\"D학점 입니다.\")\n",
    "    elif (grade > 0 and grade <= 60) :\n",
    "        print(\"F학점 입니다.\")\n",
    "    else :\n",
    "        print(\"0~100사이의 점수를 입력하세요\")\n",
    "else : \n",
    "    print(\"미응시했습니다\")    \n"
   ]
  },
  {
   "cell_type": "code",
   "execution_count": 31,
   "metadata": {},
   "outputs": [
    {
     "name": "stdout",
     "output_type": "stream",
     "text": [
      "10 + 10 = 20\n"
     ]
    }
   ],
   "source": [
    "#사칙연산 프로그램\n",
    "''' 1. 두수와 연산자를 입력 받아 이를 출력\n",
    "2. 두수에 해당하는 변수 : num1,. num2\n",
    "3. 연산자에 해당하는 변수 : op\n",
    "4. 계산 결과를 저장하는 변수 : result\n",
    "5. 연산자를 잘 못 입력했을 경우 잘 못 입력하였다는 메세지 출력'''\n",
    "\n",
    "num1 = int(input(\"숫자 1을 입력하세요 : \"))\n",
    "num2 = int(input(\"숫자 2를 입력하세요 : \"))\n",
    "op = input(\"연산자를 입력하세요 (+, -, *, /) : \")\n",
    "result = 0\n",
    "\n",
    "if (op == '+') : #파이썬은 if문 뒤에 괄호 없어도 됨\n",
    "    result = num1 + num2\n",
    "    print(num1, op, num2, \"=\", result)\n",
    "elif (op == \"-\") :\n",
    "    result = num1 - num2\n",
    "    print(num1, op, num2, \"=\", result)\n",
    "elif (op == '*') :\n",
    "    result = num1 * num2\n",
    "    print(num1, op, num2, \"=\", result)\n",
    "elif (op == '/') :\n",
    "    result = num1 / num2\n",
    "    print(num1, op, num2, \"=\", result)\n",
    "else : \n",
    "    print(\"연산자를 잘못 입력하셨습니다.\")"
   ]
  },
  {
   "cell_type": "code",
   "execution_count": 5,
   "metadata": {},
   "outputs": [
    {
     "name": "stdout",
     "output_type": "stream",
     "text": [
      "Hello Flutter\n",
      "Hello Flutter\n",
      "Hello Flutter\n",
      "Hello Flutter\n",
      "Hello Flutter\n",
      "1 번쨰 학생의 성적\n",
      "2 번쨰 학생의 성적\n",
      "3 번쨰 학생의 성적\n",
      "4 번쨰 학생의 성적\n",
      "5 번쨰 학생의 성적\n"
     ]
    }
   ],
   "source": [
    "for i in range(5) :\n",
    "    print(\"Hello Flutter\")\n",
    "for student in [1, 2, 3, 4, 5] : #리스트\n",
    "    print(student, \"번쨰 학생의 성적\")\n"
   ]
  },
  {
   "cell_type": "code",
   "execution_count": 6,
   "metadata": {},
   "outputs": [
    {
     "name": "stdout",
     "output_type": "stream",
     "text": [
      "3\n",
      "5\n",
      "11\n"
     ]
    }
   ],
   "source": [
    "a = [(1,2), (2,3), (5,6)] #튜플\n",
    "for (first, last) in a :\n",
    "    print(first+last)"
   ]
  },
  {
   "cell_type": "code",
   "execution_count": 11,
   "metadata": {},
   "outputs": [
    {
     "name": "stdout",
     "output_type": "stream",
     "text": [
      "1 번쨰, 안녕하세요? 파이썬과 데이터 마이닝 입니다.\n",
      "2 번쨰, 안녕하세요? 파이썬과 데이터 마이닝 입니다.\n",
      "3 번쨰, 안녕하세요? 파이썬과 데이터 마이닝 입니다.\n",
      "4 번쨰, 안녕하세요? 파이썬과 데이터 마이닝 입니다.\n",
      "5 번쨰, 안녕하세요? 파이썬과 데이터 마이닝 입니다.\n",
      "6 번쨰, 안녕하세요? 파이썬과 데이터 마이닝 입니다.\n",
      "7 번쨰, 안녕하세요? 파이썬과 데이터 마이닝 입니다.\n",
      "8 번쨰, 안녕하세요? 파이썬과 데이터 마이닝 입니다.\n",
      "9 번쨰, 안녕하세요? 파이썬과 데이터 마이닝 입니다.\n",
      "10 번쨰, 안녕하세요? 파이썬과 데이터 마이닝 입니다.\n"
     ]
    }
   ],
   "source": [
    "for  a in range(0, 10, 1) :\n",
    "    print(a+1, \"번쨰, 안녕하세요? 파이썬과 데이터 마이닝 입니다.\")\n",
    "\n",
    "#for a in range(1, 11, 1):\n",
    "#    print(a, \"번쨰, 안녕하세요? 파이썬과 데이터 마이닝 입니다.\")\n",
    "\n",
    "#for a in range(10) :\n",
    "#    print(a+1, (\"번쨰, 안녕하세요? 파이썬과 데이터 마이닝 입니다.\"))"
   ]
  },
  {
   "cell_type": "code",
   "execution_count": 14,
   "metadata": {},
   "outputs": [
    {
     "name": "stdout",
     "output_type": "stream",
     "text": [
      "1번째 학생은 합격입니다.\n",
      "2번째 학생은 합격입니다.\n",
      "5번째 학생은 합격입니다.\n"
     ]
    }
   ],
   "source": [
    "#for문 실습예제 1\n",
    "#반복문에 제어 조건을 넣으면서 특정한 조건에 반응하는 프로그램을 작성할 수 있음\n",
    "#리스트에 있는 학생의 점수를 기준으로 70점 이상이면 합격, 그렇지 않으면 불합격을 출력\n",
    "#학생의 점수는 students = [100, 70, 50, 25, 85]으로 합니다.\n",
    "\n",
    "student = [100, 70, 50, 25, 85]\n",
    "number = 0\n",
    "\n",
    "for score in student :\n",
    "    number = number + 1\n",
    "    if score >= 70 :\n",
    "        print('%d번째 학생은 합격입니다.'%number)\n",
    "    else :\n",
    "        print('%d번째 학생은 불합격입니다.'%number)\n",
    "\n"
   ]
  },
  {
   "cell_type": "code",
   "execution_count": 19,
   "metadata": {},
   "outputs": [
    {
     "name": "stdout",
     "output_type": "stream",
     "text": [
      "1번째 학생은 합격입니다.\n",
      "2번째 학생은 합격입니다.\n",
      "5번째 학생은 합격입니다.\n"
     ]
    }
   ],
   "source": [
    "student = [100, 70, 50, 25, 85]\n",
    "number = 0\n",
    "\n",
    "for score in student :\n",
    "    number = number + 1\n",
    "    if score < 70 : continue #continue문을 만나면 for문의 첫 부분(조건부분)으로 이동\n",
    "    print(\"%d번째 학생은 합격입니다.\" %number)"
   ]
  },
  {
   "cell_type": "code",
   "execution_count": 25,
   "metadata": {},
   "outputs": [
    {
     "name": "stdout",
     "output_type": "stream",
     "text": [
      "1 +  2 +  3 +  4 +  5 +  6 +  7 +  8 +  9 +  10 =  55\n"
     ]
    }
   ],
   "source": [
    "sum = 0\n",
    "i = 1 \n",
    "\n",
    "while (i <= 10) :\n",
    "    sum = sum+i\n",
    "\n",
    "    if ( i<10 ):\n",
    "        print(\"%d + \"%i, end = ' ')\n",
    "    else :\n",
    "        print(\"%d = \"%i, end = ' ')\n",
    "    i = i + 1\n",
    "\n",
    "print(sum)"
   ]
  },
  {
   "cell_type": "code",
   "execution_count": 29,
   "metadata": {},
   "outputs": [
    {
     "name": "stdout",
     "output_type": "stream",
     "text": [
      "5050\n"
     ]
    }
   ],
   "source": [
    "sum = 0\n",
    "i = 1\n",
    "\n",
    "while (i <= 100) :\n",
    "    sum = sum + i \n",
    "    i = i + 1\n",
    "    \n",
    "print(sum)"
   ]
  },
  {
   "cell_type": "code",
   "execution_count": 38,
   "metadata": {},
   "outputs": [],
   "source": [
    "flag = 1\n",
    "\n",
    "while flag : \n",
    "    student = int(input(\"학생점수를 입력하세요 : \"))\n",
    "    if student > 100 or student < 0:\n",
    "        break\n",
    "    print(student)"
   ]
  },
  {
   "cell_type": "code",
   "execution_count": 37,
   "metadata": {},
   "outputs": [
    {
     "name": "stdout",
     "output_type": "stream",
     "text": [
      "2\n",
      "2 * 1 = 2\n",
      "\n",
      "2 * 2 = 4\n",
      "\n",
      "2 * 3 = 6\n",
      "\n",
      "2 * 4 = 8\n",
      "\n",
      "2 * 5 = 10\n",
      "\n",
      "2 * 6 = 12\n",
      "\n",
      "2 * 7 = 14\n",
      "\n",
      "2 * 8 = 16\n",
      "\n",
      "2 * 9 = 18\n",
      "\n",
      "3\n",
      "3 * 1 = 3\n",
      "\n",
      "3 * 2 = 6\n",
      "\n",
      "3 * 3 = 9\n",
      "\n",
      "3 * 4 = 12\n",
      "\n",
      "3 * 5 = 15\n",
      "\n",
      "3 * 6 = 18\n",
      "\n",
      "3 * 7 = 21\n",
      "\n",
      "3 * 8 = 24\n",
      "\n",
      "3 * 9 = 27\n",
      "\n",
      "4\n",
      "4 * 1 = 4\n",
      "\n",
      "4 * 2 = 8\n",
      "\n",
      "4 * 3 = 12\n",
      "\n",
      "4 * 4 = 16\n",
      "\n",
      "4 * 5 = 20\n",
      "\n",
      "4 * 6 = 24\n",
      "\n",
      "4 * 7 = 28\n",
      "\n",
      "4 * 8 = 32\n",
      "\n",
      "4 * 9 = 36\n",
      "\n",
      "5\n",
      "5 * 1 = 5\n",
      "\n",
      "5 * 2 = 10\n",
      "\n",
      "5 * 3 = 15\n",
      "\n",
      "5 * 4 = 20\n",
      "\n",
      "5 * 5 = 25\n",
      "\n",
      "5 * 6 = 30\n",
      "\n",
      "5 * 7 = 35\n",
      "\n",
      "5 * 8 = 40\n",
      "\n",
      "5 * 9 = 45\n",
      "\n",
      "6\n",
      "6 * 1 = 6\n",
      "\n",
      "6 * 2 = 12\n",
      "\n",
      "6 * 3 = 18\n",
      "\n",
      "6 * 4 = 24\n",
      "\n",
      "6 * 5 = 30\n",
      "\n",
      "6 * 6 = 36\n",
      "\n",
      "6 * 7 = 42\n",
      "\n",
      "6 * 8 = 48\n",
      "\n",
      "6 * 9 = 54\n",
      "\n",
      "7\n",
      "7 * 1 = 7\n",
      "\n",
      "7 * 2 = 14\n",
      "\n",
      "7 * 3 = 21\n",
      "\n",
      "7 * 4 = 28\n",
      "\n",
      "7 * 5 = 35\n",
      "\n",
      "7 * 6 = 42\n",
      "\n",
      "7 * 7 = 49\n",
      "\n",
      "7 * 8 = 56\n",
      "\n",
      "7 * 9 = 63\n",
      "\n",
      "8\n",
      "8 * 1 = 8\n",
      "\n",
      "8 * 2 = 16\n",
      "\n",
      "8 * 3 = 24\n",
      "\n",
      "8 * 4 = 32\n",
      "\n",
      "8 * 5 = 40\n",
      "\n",
      "8 * 6 = 48\n",
      "\n",
      "8 * 7 = 56\n",
      "\n",
      "8 * 8 = 64\n",
      "\n",
      "8 * 9 = 72\n",
      "\n",
      "9\n",
      "9 * 1 = 9\n",
      "\n",
      "9 * 2 = 18\n",
      "\n",
      "9 * 3 = 27\n",
      "\n",
      "9 * 4 = 36\n",
      "\n",
      "9 * 5 = 45\n",
      "\n",
      "9 * 6 = 54\n",
      "\n",
      "9 * 7 = 63\n",
      "\n",
      "9 * 8 = 72\n",
      "\n",
      "9 * 9 = 81\n",
      "\n"
     ]
    }
   ],
   "source": [
    "for dan in range(2, 10, 1):\n",
    "    print(\"%d\"%dan)\n",
    "    for hang in range(1, 10):\n",
    "        print(dan, \"*\", hang, \"=\", dan * hang)\n",
    "        print()"
   ]
  },
  {
   "cell_type": "code",
   "execution_count": 3,
   "metadata": {},
   "outputs": [
    {
     "name": "stdout",
     "output_type": "stream",
     "text": [
      "[1, 'list', 3.3]\n",
      "1\n",
      "3.3\n"
     ]
    }
   ],
   "source": [
    "arr = [1, \"list\", 3.3]\n",
    "print(arr)\n",
    "\n",
    "print(arr[0])\n",
    "print(arr[2])\n"
   ]
  },
  {
   "cell_type": "code",
   "execution_count": 5,
   "metadata": {},
   "outputs": [
    {
     "name": "stdout",
     "output_type": "stream",
     "text": [
      "False\n",
      "True\n",
      "4\n"
     ]
    }
   ],
   "source": [
    "arr = [2, 4, 6, 8]\n",
    "\n",
    "print(1 in arr)\n",
    "print(6 in arr)\n",
    "\n",
    "print(len(arr))"
   ]
  },
  {
   "cell_type": "code",
   "execution_count": 13,
   "metadata": {},
   "outputs": [
    {
     "name": "stdout",
     "output_type": "stream",
     "text": [
      "평균 : 74.0\n"
     ]
    }
   ],
   "source": [
    "studentlist = [30, 80, 60, 60, 70, 100, 90, 85, 75, 90]\n",
    "total = 0\n",
    "\n",
    "for i in studentlist :\n",
    "    total = total + i\n",
    "\n",
    "ave = total / (len(studentlist)) \n",
    "    \n",
    "print(\"평균 : %.1f\" %ave)\n",
    "\n",
    "\n"
   ]
  },
  {
   "cell_type": "code",
   "execution_count": 26,
   "metadata": {},
   "outputs": [
    {
     "name": "stdout",
     "output_type": "stream",
     "text": [
      "[2, 4, 6, 8, 10]\n",
      "[2, 4, 6, 8, 10, 10, 12, 14, 18]\n",
      "[1, 2, 3, 4, 5, 6, 7, 8, 10, 10, 12, 14, 18]\n",
      "[1, 2, 3, 4, 5, 6, 7, 8, 10, 10, 12, 14]\n",
      "18\n",
      "[10, 30, 20, 50, 40]\n",
      "[10, 20, 30, 40, 50]\n",
      "[50, 40, 30, 20, 10]\n",
      "[40, 50, 20, 30, 20, 10]\n",
      "1\n",
      "2\n"
     ]
    }
   ],
   "source": [
    "arr1 = [2, 4, 6, 8]\n",
    "arr1.append(10)\n",
    "print(arr1)\n",
    "\n",
    "arr2 = [10, 12, 14, 18]\n",
    "arr1.extend(arr2)\n",
    "print(arr1)\n",
    "\n",
    "arr1.insert(2, 5) #인덱스 위치에 새로운 요소를 삽입, [2]위치에 5추가\n",
    "arr1.insert(0, 1)\n",
    "arr1.insert(2, 3)\n",
    "arr1.insert(6, 7)\n",
    "print(arr1)\n",
    "\n",
    "num = arr1.pop() #리스트의 마지막 요소를 삭제\n",
    "print(arr1)\n",
    "print(num)\n",
    "\n",
    "arr1 = [10, 20, 30, 20, 50, 40]\n",
    "arr1.remove(20) #파라메터로 입력한 데이터와 동일한 첫 번째 요소 삭제\n",
    "print(arr1)\n",
    "\n",
    "arr1.sort() #리스트 내의 요소를 정렬\n",
    "print(arr1)\n",
    "\n",
    "arr1.sort(reverse=True) #내림차순으로 정렬\n",
    "print(arr1)\n",
    "\n",
    "arr1 = [10, 20, 30, 20, 50, 40] #리스트내의 요소들의 순서를 반대로 정렬\n",
    "arr1.reverse()\n",
    "print(arr1)\n",
    "\n",
    "arr1 = [10, 20, 30, 20, 50, 40]\n",
    "print(arr1.index(20)) #리스트 내에서 파라메터로 입력한 데이터와 일치하는 첫번째 인덱스를 반환\n",
    "\n",
    "arr1 = [10, 20, 30, 20, 50, 40] \n",
    "print(arr1.count(20)) #리스트 내에서 파라메터로 입력한 데이터와 일치하는 요소의 개수를 반환"
   ]
  },
  {
   "cell_type": "code",
   "execution_count": 36,
   "metadata": {},
   "outputs": [
    {
     "name": "stdout",
     "output_type": "stream",
     "text": [
      "max = 3\n",
      "min = 1\n"
     ]
    }
   ],
   "source": [
    "#세 수를 입력받아 최대/최소값 구하기\n",
    "#- 리스트를 사용하지 않고 작성하고 작성한 다음 리스트를 사용해 작성 \n",
    "#- 최대값받는변수:max\n",
    "#- 최소값받는변수:min\n",
    "\n",
    "list1 = [0, 0, 0]\n",
    "list1[0] = (int(input(\"첫번째 수 : \")))\n",
    "list1[1] = (int(input(\"두번째 수 : \")))\n",
    "list1[2] = (int(input(\"세번째 수 : \")))\n",
    "\n",
    "list1.sort()\n",
    "min = list1[0]\n",
    "max = list1[2]\n",
    "\n",
    "print(\"max = %d\"%max)\n",
    "print(\"min = %d\"%min)\n",
    "\n"
   ]
  },
  {
   "cell_type": "code",
   "execution_count": 44,
   "metadata": {},
   "outputs": [
    {
     "name": "stdout",
     "output_type": "stream",
     "text": [
      "두 리스트의 길이가 다릅니다\n",
      "list1 =  [1, 2, 3, 4, 5]\n",
      "list2 =  [1, 2, 3, 4]\n"
     ]
    }
   ],
   "source": [
    "#두 리스트가 동일한지 여부 검사하는 프로그램\n",
    "\n",
    "list1 = [1,2,3,4,5]\n",
    "list2 = [1,2,3,4]\n",
    "\n",
    "if len(list1) != len(list2) :\n",
    "    print(\"두 리스트의 길이가 다릅니다\")\n",
    "    print(\"list1 = \", list1)\n",
    "    print(\"list2 = \", list2)\n",
    "else :\n",
    "    flag = 0\n",
    "\n",
    "    for i in range(len(list1)) :\n",
    "        if list1[i] != list2[i]:\n",
    "            flag = 1\n",
    "            break\n",
    "        \n",
    "    if flag == 1 :\n",
    "        print(\"두 리스트의 요소가 다릅니다.\")\n",
    "    else : \n",
    "        print(\"두 리스트는 동일합니다\")\n",
    "        print(\"list1 = \", list1)\n",
    "        print(\"list2 = \", list2)\n",
    "        "
   ]
  },
  {
   "cell_type": "code",
   "execution_count": 47,
   "metadata": {},
   "outputs": [
    {
     "name": "stdout",
     "output_type": "stream",
     "text": [
      "(1, 2, 3, 4)\n",
      "(1, 2, 1, 2, 1, 2)\n"
     ]
    }
   ],
   "source": [
    "t1 = (1,2)\n",
    "t2 = (3,4)\n",
    "\n",
    "print(t1+t2)\n",
    "print(t1*3)"
   ]
  },
  {
   "cell_type": "code",
   "execution_count": 57,
   "metadata": {},
   "outputs": [
    {
     "name": "stdout",
     "output_type": "stream",
     "text": [
      "{'a': 100, 'b': 200}\n",
      "{'a': 100, 'b': 200, 'c': 300}\n",
      "{'a': 100, 'c': 300}\n"
     ]
    }
   ],
   "source": [
    "d1 = {'a':100, 'b':200}\n",
    "print(d1)\n",
    "\n",
    "d1['c'] = 300\n",
    "print(d1)\n",
    "\n",
    "del d1['b']\n",
    "print(d1)"
   ]
  },
  {
   "cell_type": "code",
   "execution_count": 65,
   "metadata": {},
   "outputs": [
    {
     "name": "stdout",
     "output_type": "stream",
     "text": [
      "dict_keys(['name', 'age', 'university'])\n",
      "dict_values(['kim', 20, 'ulsan'])\n",
      "dict_items([('name', 'kim'), ('age', 20), ('university', 'ulsan')])\n",
      "True\n",
      "False\n",
      "{'name': 'kim', 'age': 20, 'university': 'ulsan'}\n"
     ]
    }
   ],
   "source": [
    "info = {\"name\": 'kim', \"age\" :20 , \"university\" : \"ulsan\"}\n",
    "print(info.keys())\n",
    "print(info.values())\n",
    "print(info.items())\n",
    "print(\"name\" in info)\n",
    "print(\"gender\" in info)"
   ]
  },
  {
   "cell_type": "code",
   "execution_count": 66,
   "metadata": {},
   "outputs": [
    {
     "name": "stdout",
     "output_type": "stream",
     "text": [
      "교집합 =  {12, 6}\n",
      "합집합 =  {2, 3, 4, 6, 8, 9, 10, 12, 15}\n",
      "차집합 =  {8, 2, 10, 4}\n",
      "차집합 =  {9, 3, 15}\n",
      "배타적 차집합 =  {2, 3, 4, 8, 9, 10, 15}\n"
     ]
    }
   ],
   "source": [
    "#집합의 연산\n",
    "s1 = {2,4,6,8,10,12}\n",
    "s2 = {3,6,9,12,15}\n",
    "\n",
    "print(\"교집합 = \", s1&s2)\n",
    "print(\"합집합 = \", s1|s2)\n",
    "print(\"차집합 = \", s1-s2)\n",
    "print(\"차집합 = \", s2-s1)\n",
    "print(\"배타적 차집합 = \", s1^s2)\n"
   ]
  },
  {
   "cell_type": "code",
   "execution_count": 70,
   "metadata": {},
   "outputs": [
    {
     "name": "stdout",
     "output_type": "stream",
     "text": [
      "False\n",
      "True\n"
     ]
    }
   ],
   "source": [
    "s1 = set([1, 2, 3, 4, 5])\n",
    "s2 = set([3, 4, 5])\n",
    "print(s1.issubset(s2))\n",
    "print(s2.issubset(s1))\n"
   ]
  },
  {
   "cell_type": "code",
   "execution_count": 83,
   "metadata": {},
   "outputs": [
    {
     "name": "stdout",
     "output_type": "stream",
     "text": [
      "3\n",
      "3\n",
      "1.2\n",
      "True\n",
      "True\n",
      "False\n",
      "True\n",
      "True\n",
      "False\n",
      "F\n",
      "Z\n",
      "a\n",
      "(2, 1)\n",
      "(4.0, 0.10000000000000009)\n",
      "0 apple\n",
      "1 orange\n",
      "2 banana\n",
      "(0, u)(1, l)(2, s)(3, a)\n",
      "(4, n)5\n",
      "apple\n",
      "[1, 2, 6]\n",
      "16\n",
      "27\n"
     ]
    }
   ],
   "source": [
    "#abs() : 어떤 수를 매개변수로 받았을 때, 그 숫자의 절대값을 반환하는 함수\n",
    "print(abs(3))\n",
    "print(abs(-3))\n",
    "print(abs(1.2))\n",
    "\n",
    "#all() : 반복가능한 (interable) 자료형 x를 매개변수로 함, x가 모두 참이면 True, 거짓이 하나라도 있으면 false를 리턴함\n",
    "print(all([1,2,3]))\n",
    "print(all([1,2,'a']))\n",
    "print(all([1,2,0]))\n",
    "\n",
    "#any() : x중 하나라도 참이 있을 경우, True를 리턴하고, x가 모두 거짓일 경우에만 False를 리턴\n",
    "print(any([1,2,3,0]))\n",
    "print(any(['a','','b']))\n",
    "print(any(['', 0]))\n",
    "\n",
    "#chr() : 아스키 코드 값을 입력으로 받아 그 코드에 해당하는 문자를 출력하는 함수\n",
    "print(chr(70))\n",
    "print(chr(90))\n",
    "print(chr(97))\n",
    "\n",
    "#divmod() : 2개의 숫자를 매개변수로 받고 a를 b로 나눈 몫과 나머지를 튜플 형태로 반환하는 함수\n",
    "print(divmod(7,3))\n",
    "print(divmod(1.3, 0.3))\n",
    "\n",
    "#enumerate() : 순서 있는 자료형(리스트, 튜플, 문자열)을 매개변수로 받아 인덱스값을 포함하는 enumerate객체를 반환하는 함수\n",
    "list1 = ['apple', 'orange', 'banana']\n",
    "for i, name in enumerate(list1) :\n",
    "    print(i, name)\n",
    "\n",
    "for j, name1 in enumerate(\"ulsan\") :\n",
    "    print(\"(%d, %s)\" %(j, name1), end='')\n",
    "    if j ==3:\n",
    "        print()\n",
    "\n",
    "#eval : 실행가능한 문자열을 입력으로 받아 문자열을 실행한 결과를 반환하는 함수\n",
    "print(eval('3+2'))\n",
    "print(eval(\"'app'+ 'le'\"))\n",
    "\n",
    "#filter() : 첫 번째 인수로 함수 이름을 , 두번째 인수로 그 함수에 차례로 들어갈 반복 가능한 자료형을 받음, \n",
    "#두 번째 인수로 입력된 반복 가능한 자료형의 요소들이 첫 번째 인수인 함수에 입력되었을 때  리턴 값이 참인 것을 선택하여 반환\n",
    "\n",
    "def positive(x):\n",
    "    return x > 0\n",
    "\n",
    "print(list(filter(positive,[1, -3, 2, 0, -5, 6])))\n",
    "\n",
    "#pow(a, b) : a의 b제곱한 결과 값을 반환하는 함수\n",
    "print(pow(2,4))\n",
    "print(pow(3,3))"
   ]
  },
  {
   "cell_type": "code",
   "execution_count": 88,
   "metadata": {},
   "outputs": [
    {
     "name": "stdout",
     "output_type": "stream",
     "text": [
      "10 + 20 = 30\n"
     ]
    }
   ],
   "source": [
    "#함수의 4가지 형태\n",
    "#1\n",
    "def plus(a, b):\n",
    "    return a+b\n",
    "\n",
    "x = int(input(\"숫자1을 입력하세요 : \"))\n",
    "y = int(input(\"숫자2를 입력하세요 : \"))\n",
    "\n",
    "print(\"%d + %d = %d\" %(x, y, plus(x,y)))"
   ]
  },
  {
   "cell_type": "code",
   "execution_count": 89,
   "metadata": {},
   "outputs": [
    {
     "name": "stdout",
     "output_type": "stream",
     "text": [
      "10 + 20 = (10, 20)\n"
     ]
    }
   ],
   "source": [
    "#2\n",
    "def plus():\n",
    "    x = int(input(\"숫자1을 입력하세요 : \"))\n",
    "    y = int(input(\"숫자2를 입력하세요 : \"))\n",
    "\n",
    "    print(\"%d + %d = \" %(x,y), end = '')\n",
    "    return x, y\n",
    "\n",
    "print(plus())"
   ]
  },
  {
   "cell_type": "code",
   "execution_count": 90,
   "metadata": {},
   "outputs": [
    {
     "name": "stdout",
     "output_type": "stream",
     "text": [
      "10 + 20 = 30\n"
     ]
    }
   ],
   "source": [
    "#3\n",
    "\n",
    "def plus(a, b):\n",
    "    print(\"%d + %d = %d\" %(a,b,a+b))\n",
    "\n",
    "x = int(input(\"숫자1을 입력하세요 : \"))\n",
    "y = int(input(\"숫자2를 입력하세요 : \"))\n",
    "\n",
    "plus(x,y)"
   ]
  },
  {
   "cell_type": "code",
   "execution_count": 94,
   "metadata": {},
   "outputs": [
    {
     "name": "stdout",
     "output_type": "stream",
     "text": [
      "10 + 20 = 30\n"
     ]
    }
   ],
   "source": [
    "#4\n",
    "\n",
    "def plus():\n",
    "    a = int(input(\"숫자1을 입력하세요 : \"))\n",
    "    b = int(input(\"숫자2를 입력하세요 : \"))\n",
    "\n",
    "    print(\"%d + %d = %d\" %(a,b,a+b))\n",
    "\n",
    "plus()"
   ]
  },
  {
   "cell_type": "code",
   "execution_count": 98,
   "metadata": {},
   "outputs": [
    {
     "name": "stdout",
     "output_type": "stream",
     "text": [
      "800\n"
     ]
    }
   ],
   "source": [
    "def test3(x):\n",
    "    y=x+b\n",
    "    print(y)\n",
    "\n",
    "a = 200\n",
    "b = 400\n",
    "test3(b)"
   ]
  },
  {
   "cell_type": "code",
   "execution_count": 96,
   "metadata": {},
   "outputs": [
    {
     "name": "stdout",
     "output_type": "stream",
     "text": [
      "1400\n"
     ]
    }
   ],
   "source": [
    "def test3(x) :\n",
    "    global b\n",
    "    b = 1000\n",
    "    y = x + b\n",
    "    print(y)\n",
    "\n",
    "a = 200\n",
    "b = 400\n",
    "test3(b)"
   ]
  },
  {
   "cell_type": "code",
   "execution_count": 100,
   "metadata": {},
   "outputs": [
    {
     "name": "stdout",
     "output_type": "stream",
     "text": [
      "100 200\n",
      "[300, 400]\n"
     ]
    }
   ],
   "source": [
    "def test05(x,y):\n",
    "    x = 300\n",
    "    y = 400\n",
    "\n",
    "a = 100\n",
    "b = 200\n",
    "test05(a, b) #전역변수가 먹힘\n",
    "print(a, b)\n",
    "\n",
    "#매개변수는 함수에 전달 될 때 사용되는 변수를 의미함\n",
    "def test04(x):\n",
    "    x[0] = 300\n",
    "    x[1] = 400\n",
    "\n",
    "a = [100,200] #매개변수로 전달한 원래의 변수가 변화됨\n",
    "test04(a)\n",
    "print(a)"
   ]
  },
  {
   "cell_type": "code",
   "execution_count": 103,
   "metadata": {},
   "outputs": [
    {
     "name": "stdout",
     "output_type": "stream",
     "text": [
      "test 0\n",
      "test 1\n",
      "test 2\n",
      "test 3\n",
      "test 4\n"
     ]
    }
   ],
   "source": [
    "def printXtimes(x=10):\n",
    "    for i in range(0,x,1):\n",
    "        print(\"test\", i)\n",
    "\n",
    "x=5\n",
    "printXtimes(x) #매개변수가 있으면 기본 매개변수는 동작하지 않음\n"
   ]
  },
  {
   "cell_type": "code",
   "execution_count": 106,
   "metadata": {},
   "outputs": [
    {
     "name": "stdout",
     "output_type": "stream",
     "text": [
      "파이썬\n",
      "울산대\n",
      "파이팅\n",
      "\n",
      "('파이썬', '울산대', '파이팅')\n",
      "파이썬\n",
      "울산대\n",
      "파이팅\n"
     ]
    }
   ],
   "source": [
    "def printXtimes(*x):\n",
    "    for i in x:\n",
    "        print(i)\n",
    "printXtimes(\"파이썬\", \"울산대\", \"파이팅\") \n",
    "print()\n",
    "\n",
    "def printXtimes(*x):\n",
    "    print(x)\n",
    "    print(x[0])\n",
    "    print(x[1])\n",
    "    print(x[2])\n",
    "printXtimes(\"파이썬\", \"울산대\", \"파이팅\") "
   ]
  },
  {
   "cell_type": "code",
   "execution_count": 108,
   "metadata": {},
   "outputs": [
    {
     "name": "stdout",
     "output_type": "stream",
     "text": [
      "3 * 2 * 1 = 6\n"
     ]
    }
   ],
   "source": [
    "#함수 연습문제 (팩토리얼)\n",
    "def factorialtest(n): #팩토리얼 함수부분\n",
    "    if n > 1:\n",
    "        return n * factorialtest(n-1)\n",
    "    else :\n",
    "        return 1\n",
    "    \n",
    "num = int(input(\"팩토리얼 : \")) #팩토리얼 출력부분\n",
    "fact = factorialtest(num)\n",
    "for i in range(num, 0, -1):\n",
    "    if i>1:\n",
    "        print(\"%d * \" %(i), end='')\n",
    "    else:\n",
    "        print(\"%d = \"%(i), end='')\n",
    "\n",
    "print(fact)"
   ]
  },
  {
   "cell_type": "code",
   "execution_count": 112,
   "metadata": {},
   "outputs": [
    {
     "name": "stdout",
     "output_type": "stream",
     "text": [
      "3\n"
     ]
    }
   ],
   "source": [
    "#파보나치 수열\n",
    "def f(n):\n",
    "    if n==0:\n",
    "        return 0\n",
    "    elif n==1:\n",
    "        return 1\n",
    "    return (f(n-1)+f(n-2))\n",
    "\n",
    "fibo = f(4)\n",
    "print(fibo)"
   ]
  },
  {
   "cell_type": "code",
   "execution_count": 114,
   "metadata": {},
   "outputs": [
    {
     "name": "stdout",
     "output_type": "stream",
     "text": [
      "100 + 100 = 200\n"
     ]
    },
    {
     "ename": "ValueError",
     "evalue": "invalid literal for int() with base 10: 'q'",
     "output_type": "error",
     "traceback": [
      "\u001b[0;31m---------------------------------------------------------------------------\u001b[0m",
      "\u001b[0;31mValueError\u001b[0m                                Traceback (most recent call last)",
      "\u001b[1;32m/Users/junhyeong/Library/Mobile Documents/com~apple~CloudDocs/GIthub/Datamining-with-python/Datamining/basic-exercise.ipynb 셀 43\u001b[0m line \u001b[0;36m2\n\u001b[1;32m     <a href='vscode-notebook-cell:/Users/junhyeong/Library/Mobile%20Documents/com~apple~CloudDocs/GIthub/Datamining-with-python/Datamining/basic-exercise.ipynb#X62sZmlsZQ%3D%3D?line=19'>20</a>\u001b[0m \u001b[39mwhile\u001b[39;00m con \u001b[39m!=\u001b[39m \u001b[39m'\u001b[39m\u001b[39mq\u001b[39m\u001b[39m'\u001b[39m :\n\u001b[1;32m     <a href='vscode-notebook-cell:/Users/junhyeong/Library/Mobile%20Documents/com~apple~CloudDocs/GIthub/Datamining-with-python/Datamining/basic-exercise.ipynb#X62sZmlsZQ%3D%3D?line=20'>21</a>\u001b[0m     op \u001b[39m=\u001b[39m \u001b[39minput\u001b[39m(\u001b[39m\"\u001b[39m\u001b[39m연산자 : \u001b[39m\u001b[39m\"\u001b[39m)\n\u001b[0;32m---> <a href='vscode-notebook-cell:/Users/junhyeong/Library/Mobile%20Documents/com~apple~CloudDocs/GIthub/Datamining-with-python/Datamining/basic-exercise.ipynb#X62sZmlsZQ%3D%3D?line=21'>22</a>\u001b[0m     num1 \u001b[39m=\u001b[39m \u001b[39mint\u001b[39m(\u001b[39minput\u001b[39m(\u001b[39m\"\u001b[39m\u001b[39m첫번째 숫자를 입력하세요 : \u001b[39m\u001b[39m\"\u001b[39m))\n\u001b[1;32m     <a href='vscode-notebook-cell:/Users/junhyeong/Library/Mobile%20Documents/com~apple~CloudDocs/GIthub/Datamining-with-python/Datamining/basic-exercise.ipynb#X62sZmlsZQ%3D%3D?line=22'>23</a>\u001b[0m     num2 \u001b[39m=\u001b[39m \u001b[39mint\u001b[39m(\u001b[39minput\u001b[39m(\u001b[39m\"\u001b[39m\u001b[39m두번째 숫자를 입력하세요 : \u001b[39m\u001b[39m\"\u001b[39m))\n\u001b[1;32m     <a href='vscode-notebook-cell:/Users/junhyeong/Library/Mobile%20Documents/com~apple~CloudDocs/GIthub/Datamining-with-python/Datamining/basic-exercise.ipynb#X62sZmlsZQ%3D%3D?line=23'>24</a>\u001b[0m     result \u001b[39m=\u001b[39m calc(op, num1, num2)\n",
      "\u001b[0;31mValueError\u001b[0m: invalid literal for int() with base 10: 'q'"
     ]
    }
   ],
   "source": [
    "#계산기\n",
    "def calc(op, num1, num2):\n",
    "    res=0\n",
    "    if op == '+':\n",
    "        return num1 + num2\n",
    "    elif op == '-':\n",
    "        return num1 - num2\n",
    "    elif op == '*':\n",
    "        return num1 * num2\n",
    "    elif op == '/':\n",
    "        return num1 / num2\n",
    "    \n",
    "\n",
    "result = 0\n",
    "num1 = 0\n",
    "num2 = 0\n",
    "op = \"\"\n",
    "con = \"\"\n",
    "\n",
    "while con != 'q' :\n",
    "    op = input(\"연산자 : \")\n",
    "    num1 = int(input(\"첫번째 숫자를 입력하세요 : \"))\n",
    "    num2 = int(input(\"두번째 숫자를 입력하세요 : \"))\n",
    "    result = calc(op, num1, num2)\n",
    "    print(\"%d %s %d = %d\"%(num1, op, num2, result))\n",
    "\n",
    "con = input(\"계속하시겠습니까? (중단: q 입력) : \")\n"
   ]
  },
  {
   "cell_type": "markdown",
   "metadata": {},
   "source": [
    "# 객제 지향 프로그래밍\n",
    "- 객체 지향 : 모든 데이터를 객체로 취급, 이러한 객체가 바로 프로그래밍의 중심이 됨  \n",
    "- 객체의 속성와 행위을 구체화하는 형태의 프로그래밍이 바로 객체지향프로그래밍임  \n",
    "-> 이때 객체를 만들어 내기 위한 설계도와 같은 개념을 클래스라고 함\n",
    "\n",
    "## class\n",
    "속성과 메소드로 구성됨\n",
    "속성 : 클래스에 포함된 변수\n",
    "메소드 : 특정 작업을 수행하기 위한 명령문의 집합, 즉 함수\n",
    "\n",
    "## 인스턴스\n",
    "메모리에 할당된 객체를 의미함\n",
    "\n",
    "\n"
   ]
  },
  {
   "cell_type": "code",
   "execution_count": 116,
   "metadata": {},
   "outputs": [
    {
     "name": "stdout",
     "output_type": "stream",
     "text": [
      "나의 이름은  junhyeong 입니다.\n",
      "junhyeong\n",
      "\n"
     ]
    }
   ],
   "source": [
    "#클래스의 구성요소\n",
    "class Human : #Human 클래스 생성\n",
    "    name = '' #name 속서\n",
    "\n",
    "    def view(self): #view메소드\n",
    "        print(\"나의 이름은 \", self.name, \"입니다.\")\n",
    "\n",
    "h = Human() #객체 생성\n",
    "h.name = \"junhyeong\" #h 객체 속성 name에 이름 저장\n",
    "h.view() #h 객체 메소드 호출\n",
    "\n",
    "print(h.name) #h객체의 name 출력\n",
    "print(Human.name) #Human클래스의 name을 출력"
   ]
  },
  {
   "cell_type": "code",
   "execution_count": 2,
   "metadata": {},
   "outputs": [
    {
     "ename": "TypeError",
     "evalue": "Human() takes no arguments",
     "output_type": "error",
     "traceback": [
      "\u001b[0;31m---------------------------------------------------------------------------\u001b[0m",
      "\u001b[0;31mTypeError\u001b[0m                                 Traceback (most recent call last)",
      "\u001b[1;32m/Users/junhyeong/Library/Mobile Documents/com~apple~CloudDocs/GIthub/Datamining-with-python/Datamining/basic-exercise.ipynb 셀 46\u001b[0m line \u001b[0;36m1\n\u001b[1;32m     <a href='vscode-notebook-cell:/Users/junhyeong/Library/Mobile%20Documents/com~apple~CloudDocs/GIthub/Datamining-with-python/Datamining/basic-exercise.ipynb#X63sZmlsZQ%3D%3D?line=12'>13</a>\u001b[0m \u001b[39mdef\u001b[39;00m \u001b[39mview\u001b[39m(\u001b[39mself\u001b[39m):\n\u001b[1;32m     <a href='vscode-notebook-cell:/Users/junhyeong/Library/Mobile%20Documents/com~apple~CloudDocs/GIthub/Datamining-with-python/Datamining/basic-exercise.ipynb#X63sZmlsZQ%3D%3D?line=13'>14</a>\u001b[0m     \u001b[39mprint\u001b[39m(\u001b[39m\"\u001b[39m\u001b[39m%s\u001b[39;00m\u001b[39m, \u001b[39m\u001b[39m%d\u001b[39;00m\u001b[39m\"\u001b[39m\u001b[39m%\u001b[39m(\u001b[39mself\u001b[39m\u001b[39m.\u001b[39mname, \u001b[39mself\u001b[39m\u001b[39m.\u001b[39mage))\n\u001b[0;32m---> <a href='vscode-notebook-cell:/Users/junhyeong/Library/Mobile%20Documents/com~apple~CloudDocs/GIthub/Datamining-with-python/Datamining/basic-exercise.ipynb#X63sZmlsZQ%3D%3D?line=15'>16</a>\u001b[0m h1 \u001b[39m=\u001b[39m Human(\u001b[39m\"\u001b[39m\u001b[39mman\u001b[39m\u001b[39m\"\u001b[39m, \u001b[39m30\u001b[39m)\n\u001b[1;32m     <a href='vscode-notebook-cell:/Users/junhyeong/Library/Mobile%20Documents/com~apple~CloudDocs/GIthub/Datamining-with-python/Datamining/basic-exercise.ipynb#X63sZmlsZQ%3D%3D?line=16'>17</a>\u001b[0m h2 \u001b[39m=\u001b[39m Human(\u001b[39m\"\u001b[39m\u001b[39mgirl\u001b[39m\u001b[39m\"\u001b[39m, \u001b[39m38\u001b[39m)\n\u001b[1;32m     <a href='vscode-notebook-cell:/Users/junhyeong/Library/Mobile%20Documents/com~apple~CloudDocs/GIthub/Datamining-with-python/Datamining/basic-exercise.ipynb#X63sZmlsZQ%3D%3D?line=17'>18</a>\u001b[0m h1\u001b[39m.\u001b[39mview()\n",
      "\u001b[0;31mTypeError\u001b[0m: Human() takes no arguments"
     ]
    }
   ],
   "source": [
    "class Human :\n",
    "    name = ''\n",
    "    age = 0\n",
    "\n",
    "def __init__(self, name, age):\n",
    "    print(\"생성자 호출\")\n",
    "    self.name = name\n",
    "    self.age = age\n",
    "\n",
    "def __del__(self):\n",
    "    print(\"소멸자 호출\")\n",
    "\n",
    "def view(self):\n",
    "    print(\"%s, %d\"%(self.name, self.age))\n",
    "\n",
    "h1 = Human(\"man\", 30)\n",
    "h2 = Human(\"girl\", 38)\n",
    "h1.view()\n",
    "h2.view()  "
   ]
  },
  {
   "cell_type": "code",
   "execution_count": 1,
   "metadata": {},
   "outputs": [
    {
     "name": "stdout",
     "output_type": "stream",
     "text": [
      "======\n"
     ]
    },
    {
     "ename": "AttributeError",
     "evalue": "'Human' object has no attribute 'view'",
     "output_type": "error",
     "traceback": [
      "\u001b[0;31m---------------------------------------------------------------------------\u001b[0m",
      "\u001b[0;31mAttributeError\u001b[0m                            Traceback (most recent call last)",
      "\u001b[1;32m/Users/junhyeong/Library/Mobile Documents/com~apple~CloudDocs/GIthub/Datamining-with-python/Datamining/basic-exercise.ipynb 셀 47\u001b[0m line \u001b[0;36m1\n\u001b[1;32m     <a href='vscode-notebook-cell:/Users/junhyeong/Library/Mobile%20Documents/com~apple~CloudDocs/GIthub/Datamining-with-python/Datamining/basic-exercise.ipynb#X64sZmlsZQ%3D%3D?line=15'>16</a>\u001b[0m     people\u001b[39m.\u001b[39mappend(Human())\n\u001b[1;32m     <a href='vscode-notebook-cell:/Users/junhyeong/Library/Mobile%20Documents/com~apple~CloudDocs/GIthub/Datamining-with-python/Datamining/basic-exercise.ipynb#X64sZmlsZQ%3D%3D?line=17'>18</a>\u001b[0m \u001b[39mfor\u001b[39;00m j \u001b[39min\u001b[39;00m people:\n\u001b[0;32m---> <a href='vscode-notebook-cell:/Users/junhyeong/Library/Mobile%20Documents/com~apple~CloudDocs/GIthub/Datamining-with-python/Datamining/basic-exercise.ipynb#X64sZmlsZQ%3D%3D?line=18'>19</a>\u001b[0m     j\u001b[39m.\u001b[39mview()\n",
      "\u001b[0;31mAttributeError\u001b[0m: 'Human' object has no attribute 'view'"
     ]
    }
   ],
   "source": [
    "class Human: #Human 클래스 생성\n",
    "    name = '' #name 속성\n",
    "    age = 0 #\n",
    "\n",
    "def __init__(self): #생성자\n",
    "    self.name = input(\"이름: \") #name 속성에 이름 저장 #self는 객체 자신을 의미\n",
    "    self.age = int(input(\"나이 : \")) #age 속성에 나이 저장 #self는 객체 자신을 의미\n",
    "\n",
    "def view(self): #view 메소드\n",
    "    print(\"%s (%d)\"%(self.name, self.age)) #self는 객체 자신을 의미\n",
    "print(\"======\")\n",
    "\n",
    "people = [] #리스트 생성\n",
    "\n",
    "for i in range(3):\n",
    "    people.append(Human())\n",
    "\n",
    "for j in people:\n",
    "    j.view()\n",
    "\n",
    "    "
   ]
  },
  {
   "cell_type": "code",
   "execution_count": null,
   "metadata": {},
   "outputs": [],
   "source": []
  }
 ],
 "metadata": {
  "kernelspec": {
   "display_name": "base",
   "language": "python",
   "name": "python3"
  },
  "language_info": {
   "codemirror_mode": {
    "name": "ipython",
    "version": 3
   },
   "file_extension": ".py",
   "mimetype": "text/x-python",
   "name": "python",
   "nbconvert_exporter": "python",
   "pygments_lexer": "ipython3",
   "version": "3.11.5"
  },
  "orig_nbformat": 4
 },
 "nbformat": 4,
 "nbformat_minor": 2
}
