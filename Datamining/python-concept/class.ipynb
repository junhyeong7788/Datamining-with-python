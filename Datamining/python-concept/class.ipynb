{
 "cells": [
  {
   "cell_type": "code",
   "execution_count": 1,
   "metadata": {},
   "outputs": [
    {
     "name": "stdout",
     "output_type": "stream",
     "text": [
      "3\n",
      "7\n"
     ]
    }
   ],
   "source": [
    "# calculator.py\n",
    "result = 0\n",
    "\n",
    "def add(num):\n",
    "    global result\n",
    "    result += num  # 결괏값(result)에 입력값(num) 더하기\n",
    "    return result  # 결괏값 리턴\n",
    "\n",
    "print(add(3))\n",
    "print(add(4))"
   ]
  },
  {
   "cell_type": "code",
   "execution_count": 2,
   "metadata": {},
   "outputs": [
    {
     "name": "stdout",
     "output_type": "stream",
     "text": [
      "3\n",
      "7\n",
      "3\n",
      "10\n"
     ]
    }
   ],
   "source": [
    "# calculator2.py, 한 프로그램에서 2대의 계산기가 필요한 상황\n",
    "result1 = 0\n",
    "result2 = 0\n",
    "\n",
    "def add1(num):  # 계산기1\n",
    "    global result1\n",
    "    result1 += num\n",
    "    return result1\n",
    "\n",
    "def add2(num):  # 계산기2\n",
    "    global result2\n",
    "    result2 += num\n",
    "    return result2\n",
    "\n",
    "print(add1(3))\n",
    "print(add1(4))\n",
    "print(add2(3))\n",
    "print(add2(7))\n",
    "\n",
    "#계산기가 3개, 5개, 10개로 점점 더 많이 필요해진다면 어떻게 해야 할까? -> 이럴 때 클래스를 사용"
   ]
  },
  {
   "cell_type": "markdown",
   "metadata": {},
   "source": [
    "### 계산기가 3개, 5개, 10개로 점점 더 많이 필요해진다면 어떻게 해야 할까? \n",
    "-> 이럴 때 클래스를 사용 \n",
    "\n",
    "### 클래스 = 과자틀, \n",
    "### 과자 틀로 찍어낸 과자 = 객체\n",
    "\n",
    "클래스로 만든 객체는 객체마다 고유한 성격을 가진다\n",
    "\n",
    "# 객체와 인스턴스의 차이\n",
    "클래스로 만든 객체 = 인스턴스\n",
    "\n",
    "a = Cookie()로 만든 a는 객체이다.  \n",
    "그리고 a 객체는 Cookie의 인스턴스이다.  \n",
    "즉, 인스턴스라는 말은 특정 객체(a)가 어떤 클래스(Cookie)의 객체인지를  관계 위주로 설명할 때 사용  \n",
    "\n",
    "- 'a는 인스턴스'보다 'a는 객체'라는 표현이 어울린다.\n",
    "- 'a는 Cookie의 객체'보다 'a는 Cookie의 인스턴스'라는 표현이 어울린다.\n"
   ]
  },
  {
   "cell_type": "markdown",
   "metadata": {},
   "source": [
    "# 쉬운 예시로 먼저 살펴보자"
   ]
  },
  {
   "cell_type": "code",
   "execution_count": 4,
   "metadata": {},
   "outputs": [
    {
     "name": "stdout",
     "output_type": "stream",
     "text": [
      "검은색\n",
      "True\n"
     ]
    }
   ],
   "source": [
    "#쉬운 예제\n",
    "class BlackBox:\n",
    "    pass #아무것도 수행하지 않는 문법\n",
    "#현재 클래스(설계도)는 비어있는 상태\n",
    "\n",
    "b1=BlackBox() #b1이라는 객체 생성\n",
    "b1.name = '검은색'\n",
    "print(b1.name)\n",
    "print(isinstance(b1,BlackBox)) #b1이 BlackBox의 인스턴스인지 확인"
   ]
  },
  {
   "cell_type": "code",
   "execution_count": 5,
   "metadata": {},
   "outputs": [
    {
     "name": "stdout",
     "output_type": "stream",
     "text": [
      "검은색 1000\n",
      "노란색 2000\n"
     ]
    }
   ],
   "source": [
    "class BlackBox:\n",
    "    def __init__(self, name, price): #__init__함수는 객체가 생성될 때 자동으로 실행\n",
    "        self.name = name #self.name은 객체변수(멤버변수), name은 매개변수\n",
    "        self.price = price\n",
    "\n",
    "b1 = BlackBox('검은색', 1000)\n",
    "print(b1.name, b1.price)\n",
    "b2 = BlackBox('노란색', 2000) #b2라는 객체 생성, 설계도를 채웠기 때문에 b2.name, b2.price를 사용할 수 있음\n",
    "print(b2.name, b2.price)"
   ]
  },
  {
   "cell_type": "code",
   "execution_count": 6,
   "metadata": {},
   "outputs": [
    {
     "name": "stdout",
     "output_type": "stream",
     "text": [
      "20분 동안 여행모드 ON\n"
     ]
    }
   ],
   "source": [
    "class BlackBox:\n",
    "    def __init__(self, name, price):\n",
    "        self.name = name\n",
    "        self.price = price \n",
    "    def set_travel_mode(self, min): #메소드\n",
    "        print(str(min)+'분 동안 여행모드 ON')\n",
    "\n",
    "b1 = BlackBox('검은색', 1000)\n",
    "b1.set_travel_mode(20) #메소드 호출"
   ]
  },
  {
   "cell_type": "code",
   "execution_count": 7,
   "metadata": {},
   "outputs": [
    {
     "name": "stdout",
     "output_type": "stream",
     "text": [
      "20분 동안 여행모드 ON\n"
     ]
    }
   ],
   "source": [
    "class BlackBox:\n",
    "    def __init__(self, name, price):\n",
    "        self.name = name #멤버변수를 사용할때는 self.변수명\n",
    "        self.price = price \n",
    "    def set_travel_mode(self, min):\n",
    "        print(str(min)+'분 동안 여행모드 ON')\n",
    "\n",
    "BlackBox.set_travel_mode(b1, 20) #b1은 self로 20은 min으로 들어감\n",
    "#즉 위와 같은 코드"
   ]
  },
  {
   "cell_type": "code",
   "execution_count": 8,
   "metadata": {},
   "outputs": [
    {
     "name": "stdout",
     "output_type": "stream",
     "text": [
      "30분 동안 여행모드 ON\n"
     ]
    }
   ],
   "source": [
    "#기본 블랙박스와 여행모드지원 블랙박스의 init함수부분이 같다.\n",
    "#어떤 클래스로부터 상속 받은 클래스로 확장가능\n",
    "\n",
    "class TravelBlackBox(BlackBox): #자식 클래스(상속받는 클래스) / 위 기본 블랙박스는 부모클래스\n",
    "    def set_travel_mode(self, min):\n",
    "        print(str(min)+'분 동안 여행모드 ON')\n",
    "\n",
    "b1 = TravelBlackBox('검은색', 1000)\n",
    "b2 = BlackBox('노란색', 2000)\n",
    "\n",
    "#b1.set_travel_mode(20) = 사용불가\n",
    "b2.set_travel_mode(30)"
   ]
  },
  {
   "cell_type": "code",
   "execution_count": null,
   "metadata": {},
   "outputs": [],
   "source": [
    "#1번과 2번 두 클래스는 같은 클래스이다.\n",
    "#부모클래스의 init함수를 사용하고 싶다면 super()를 사용하면 된다.\n",
    "\n",
    "'''\n",
    "1.\n",
    "class TravelBlackBox(BlackBox):\n",
    "    def __init__(self, name, price, sd):\n",
    "        BlackBox.__init__(self,name,price):\n",
    "        self.sd = sd\n",
    "    def set_travel_mode(self, min):\n",
    "        print(str(min)+'분 동안 여행모드 ON')\n",
    "'''\n",
    "'''\n",
    "2.\n",
    "class TravelBlackBox(BlackBox):\n",
    "    def __init__(self, name, price, sd):\n",
    "        super().__init__(name,price): #super가 의미하는 것도 부모클래스\n",
    "        self.sd = sd\n",
    "    def set_travel_mode(self, min):\n",
    "        print(str(min)+'분 동안 여행모드 ON')\n",
    "'''"
   ]
  },
  {
   "cell_type": "code",
   "execution_count": 11,
   "metadata": {},
   "outputs": [
    {
     "name": "stdout",
     "output_type": "stream",
     "text": [
      "추억용 여행 영상제작\n",
      "여행 영상을 보냅니다.\n"
     ]
    }
   ],
   "source": [
    "#다중 상속\n",
    "class BlackBox:\n",
    "    def __init__(self, name, price): #__init__함수는 객체가 생성될 때 자동으로 실행\n",
    "        self.name = name #self.name은 객체변수(멤버변수), name은 매개변수\n",
    "        self.price = price\n",
    "\n",
    "class VideoMaker:\n",
    "    def make(self):\n",
    "        print('추억용 여행 영상제작')\n",
    "\n",
    "class MailSender:\n",
    "    def send(self):\n",
    "        print('여행 영상을 보냅니다.')\n",
    "\n",
    "class TravelBlackBox(BlackBox, VideoMaker, MailSender): #여러 클래스를 상속받을 수 있다.\n",
    "    def __init__(self, name, price, sd):\n",
    "        super().__init__(name,price)\n",
    "        self.sd = sd\n",
    "    def set_travel_mode(self, min):\n",
    "        print(str(min)+'분 동안 여행모드 ON')\n",
    "    def make(self):\n",
    "        print('추억용 여행 영상제작')\n",
    "    def send(self):\n",
    "        print('여행 영상을 보냅니다.')\n",
    "\n",
    "\n",
    "b1 = TravelBlackBox('검은색', 1000, 32)\n",
    "b1.make() #VideoMaker의 메소드, 추억용 여행 영상제작\n",
    "b1.send() #MailSender의 메소드, 여행 영상을 보냅니다.\n"
   ]
  },
  {
   "cell_type": "code",
   "execution_count": 13,
   "metadata": {},
   "outputs": [
    {
     "name": "stdout",
     "output_type": "stream",
     "text": [
      "30분 동안 여행모드 ON\n",
      "추억용 여행 영상제작\n",
      "여행 영상을 보냅니다.\n",
      "20분 동안 여행모드 ON\n",
      "추억용 여행 영상제작\n",
      "여행 영상을 보냅니다.\n"
     ]
    }
   ],
   "source": [
    "#다중 상속\n",
    "class VideoMaker:\n",
    "    def make(self):\n",
    "        print('추억용 여행 영상제작')\n",
    "\n",
    "class MailSender:\n",
    "    def send(self):\n",
    "        print('여행 영상을 보냅니다.')\n",
    "\n",
    "class TravelBlackBox(BlackBox, VideoMaker, MailSender): #여러 클래스를 상속받을 수 있다.\n",
    "    def __init__(self, name, price, sd):\n",
    "        super().__init__(name,price)\n",
    "        self.sd = sd\n",
    "    def set_travel_mode(self, min):\n",
    "        print(str(min)+'분 동안 여행모드 ON')\n",
    "\n",
    "class AdvancedTravelBlackBox(TravelBlackBox):\n",
    "    def set_travel_mode(self, min):\n",
    "        print(str(min)+'분 동안 여행모드 ON') #재정의\n",
    "        self.make() #재정의된 메소드 호출\n",
    "        self.send() #재정의된 메소드 호출\n",
    "\n",
    "# -> 메소드 오버라이딩 : 부모클래스의 메소드를 자식클래스에서 재정의\n",
    "#부모클래스인 TravelBlackBox의 set_travel_mode메소드를 재정의(즉, 덮어쓰기)\n",
    "\n",
    "b1 = AdvancedTravelBlackBox('검은색', 1000, 32)\n",
    "b1.set_travel_mode(30)\n",
    "\n",
    "b2 = AdvancedTravelBlackBox('노란색', 2000, 64)\n",
    "b2.set_travel_mode(20)"
   ]
  },
  {
   "cell_type": "markdown",
   "metadata": {},
   "source": [
    "# 사칙연산 프로그램 예제"
   ]
  },
  {
   "cell_type": "code",
   "execution_count": 12,
   "metadata": {},
   "outputs": [
    {
     "data": {
      "text/plain": [
       "12"
      ]
     },
     "execution_count": 12,
     "metadata": {},
     "output_type": "execute_result"
    }
   ],
   "source": [
    "class FourCal: \n",
    "    def setdata(self, first, second): #setdata 매서드 추가\n",
    "        self.first = first \n",
    "        self.second = second\n",
    "    def add(self): #add 매서드 추가\n",
    "        result = self.first + self.second #self는 객체 a\n",
    "        return result\n",
    "     \n",
    "a = FourCal()\n",
    "a.setdata(10,2)\n",
    "a.add()\n"
   ]
  },
  {
   "cell_type": "markdown",
   "metadata": {},
   "source": [
    "## 곱하기, 빼기, 나누기 기능 만들기"
   ]
  },
  {
   "cell_type": "code",
   "execution_count": 5,
   "metadata": {},
   "outputs": [
    {
     "data": {
      "text/plain": [
       "6"
      ]
     },
     "execution_count": 5,
     "metadata": {},
     "output_type": "execute_result"
    }
   ],
   "source": [
    "class FourCal:\n",
    "    def setdata(self, first, second):\n",
    "        self.first = first\n",
    "        self.second = second\n",
    "    def add(self):\n",
    "        result = self.first + self.second\n",
    "        return result\n",
    "    def mul(self):\n",
    "        result = self.first * self.second\n",
    "        return result\n",
    "    def sub(self):\n",
    "        result = self.first - self.second\n",
    "        return result\n",
    "    def div(self):\n",
    "        result = self.first / self.second\n",
    "        return result\n",
    "\n",
    "a = FourCal()\n",
    "b = FourCal()\n",
    "a.setdata(4,2)\n",
    "b.setdata(3,8)\n",
    "\n",
    "a.add()\n",
    "a.mul()\n",
    "a.sub()\n",
    "a.div()\n",
    "\n",
    "b.add()\n",
    "b.mul()\n",
    "b.sub()\n",
    "b.div()\n",
    "\n"
   ]
  },
  {
   "cell_type": "markdown",
   "metadata": {},
   "source": [
    "## 생성자\n",
    "객체가 생성될 때 자동으로 호출되는 메서드를 의미한다.  \n",
    "파이썬 메서드명으로 __init__를 사용하면 이 메서드는 생성자가 된다."
   ]
  },
  {
   "cell_type": "code",
   "execution_count": 19,
   "metadata": {},
   "outputs": [
    {
     "data": {
      "text/plain": [
       "6"
      ]
     },
     "execution_count": 19,
     "metadata": {},
     "output_type": "execute_result"
    }
   ],
   "source": [
    "class FourCal:\n",
    "    def __init__(self, first, second): #생성자(Constructor)\n",
    "        self.first = first \n",
    "        self.second = second\n",
    "    def setdata(self, first, second):\n",
    "        self.first = first\n",
    "        self.second = second\n",
    "    def add(self):\n",
    "        result = self.first + self.second\n",
    "        return result\n",
    "    def mul(self):\n",
    "        result = self.first * self.second\n",
    "        return result\n",
    "    def sub(self):\n",
    "        result = self.first - self.second\n",
    "        return result\n",
    "    def div(self):\n",
    "        result = self.first / self.second\n",
    "        return result\n",
    "\n",
    "a = FourCal(4, 2)\n",
    "a.add()"
   ]
  },
  {
   "cell_type": "markdown",
   "metadata": {},
   "source": [
    "위 코드에서 __init__ 메서드는 setdata 메서드와 이름만 다르고 모든 게 동일하다.  \n",
    "단, 메서드 이름을 __init__로 했기 때문에 생성자로 인식되어 객체가 생성되는 시점에 자동으로 호출된다는 차이가 있다."
   ]
  },
  {
   "cell_type": "markdown",
   "metadata": {},
   "source": [
    "# ---------------\n",
    "# 객제 지향 프로그래밍\n",
    "- 객체 지향 : 모든 데이터를 객체로 취급, 이러한 객체가 바로 프로그래밍의 중심이 됨  \n",
    "- 객체의 속성와 행위을 구체화하는 형태의 프로그래밍이 바로 객체지향프로그래밍임  \n",
    "-> 이때 객체를 만들어 내기 위한 설계도와 같은 개념을 클래스라고 함\n",
    "\n",
    "## class\n",
    "속성과 메소드로 구성됨\n",
    "속성 : 클래스에 포함된 변수\n",
    "메소드 : 특정 작업을 수행하기 위한 명령문의 집합, 즉 함수\n",
    "\n",
    "## 인스턴스\n",
    "메모리에 할당된 객체를 의미함\n",
    "\n",
    "\n"
   ]
  },
  {
   "cell_type": "code",
   "execution_count": 20,
   "metadata": {},
   "outputs": [
    {
     "name": "stdout",
     "output_type": "stream",
     "text": [
      "나의 이름은  junhyeong 입니다.\n",
      "junhyeong\n",
      "\n"
     ]
    }
   ],
   "source": [
    "#클래스의 구성요소\n",
    "class Human : #Human 클래스 생성\n",
    "    name = '' #name 속성\n",
    "\n",
    "    def view(self): #view메소드\n",
    "        print(\"나의 이름은 \", self.name, \"입니다.\")\n",
    "\n",
    "h = Human() #객체 생성\n",
    "h.name = \"junhyeong\" #h 객체 속성 name에 이름 저장\n",
    "h.view() #h 객체 메소드 호출\n",
    "\n",
    "print(h.name) #h객체의 name 출력\n",
    "print(Human.name) #Human클래스의 name을 출력"
   ]
  },
  {
   "cell_type": "code",
   "execution_count": 26,
   "metadata": {},
   "outputs": [
    {
     "name": "stdout",
     "output_type": "stream",
     "text": [
      "생성자 호출\n",
      "생성자 호출\n",
      "man, 42\n",
      "girl, 38\n"
     ]
    }
   ],
   "source": [
    "class Human :\n",
    "    def __init__(self, name, age):\n",
    "        print(\"생성자 호출\")\n",
    "        self.name = name\n",
    "        self.age = age\n",
    "\n",
    "    def __del__(self):\n",
    "        print(\"소멸자 호출\")\n",
    "\n",
    "    def view(self): #view메소드\n",
    "        print(\"%s, %d\"%(self.name, self.age))\n",
    "    \n",
    "h1 = Human(\"man\", 42)\n",
    "h2 = Human(\"girl\", 38)\n",
    "h1.view()\n",
    "h2.view()"
   ]
  },
  {
   "cell_type": "code",
   "execution_count": 27,
   "metadata": {},
   "outputs": [
    {
     "name": "stdout",
     "output_type": "stream",
     "text": [
      "======\n",
      "junhyeong (24)\n",
      "jabs (40)\n",
      "timcook (90)\n"
     ]
    }
   ],
   "source": [
    "class Human: #Human 클래스 생성\n",
    "    def __init__(self): #생성자\n",
    "        self.name = input(\"이름: \") #name 속성에 이름 저장 #self는 객체 자신을 의미\n",
    "        self.age = int(input(\"나이 : \")) #age 속성에 나이 저장 #self는 객체 자신을 의미\n",
    "\n",
    "    def view(self): #view 메소드\n",
    "        print(\"%s (%d)\"%(self.name, self.age)) #self는 객체 자신을 의미\n",
    "\n",
    "print(\"======\")\n",
    "\n",
    "people = [] #리스트 생성\n",
    "\n",
    "for i in range(3):\n",
    "    people.append(Human())\n",
    "\n",
    "for j in people:\n",
    "    j.view()\n",
    "\n",
    "    "
   ]
  },
  {
   "cell_type": "markdown",
   "metadata": {},
   "source": [
    "## 클래스의 은닉성\n",
    "\n",
    "### 객체 메소드의 은닉\n",
    "- 은닉성은 속성에 대한 외부로부터의 접근을 허용하지 않고, 객체 메서드를 통해 접근하도록 프로그래밍\n",
    "- 객체 내부에서는 동작이 가능하기 때문에, 다른 메서드에서 호출하여 사용\n",
    "- 메서드 이름 앞에 '__'를 사용하여 은닉성을 구현함"
   ]
  },
  {
   "cell_type": "code",
   "execution_count": 6,
   "metadata": {},
   "outputs": [
    {
     "name": "stdout",
     "output_type": "stream",
     "text": [
      "jun, 42, 남자\n",
      "hyeong, 38, 여자\n",
      "-------\n",
      "jun\n",
      "42\n",
      "hyeong\n",
      "38\n"
     ]
    }
   ],
   "source": [
    "class Human :\n",
    "    __name = \"\"\n",
    "    __age = 0\n",
    "    __gender = 1\n",
    "\n",
    "    def __init__(self, name, age, gender):\n",
    "        self.__name = name\n",
    "        self.__age = age\n",
    "        self.__gender = gender\n",
    "    \n",
    "    def getname(self):\n",
    "        return self.__name\n",
    "    \n",
    "    def getage(self):\n",
    "        return self.__age\n",
    "    \n",
    "    def setname(self, name):\n",
    "        self.__name = name\n",
    "\n",
    "    def setage(self, age):\n",
    "        self.__age = age\n",
    "\n",
    "    def setgender(self, gender):\n",
    "        self.__gender = gender\n",
    "\n",
    "    def whatisgender(self):\n",
    "        if self.__gender == 1:\n",
    "            return \"남자\"\n",
    "        else:\n",
    "            return \"여자\"\n",
    "        \n",
    "    def view(self):\n",
    "        print(\"%s, %d, %s\"%(self.__name, self.__age, self.whatisgender())) \n",
    "\n",
    "h1 = Human(\"jun\", 42, 1)\n",
    "h1.view()\n",
    "h2 = Human(\"hyeong\", 38, 2)\n",
    "h2.view()\n",
    "\n",
    "print(\"-------\")\n",
    "\n",
    "print(h1.getname())\n",
    "print(h1.getage())\n",
    "\n",
    "print(h2.getname())\n",
    "print(h2.getage())\n"
   ]
  },
  {
   "cell_type": "markdown",
   "metadata": {},
   "source": [
    "## 클래스의 상속\n",
    "\n",
    "### 상속\n",
    "- 기존 클래스에서 일부를 추가, 변경하여 새 클래스를 생성하여, 코드 재사용하는 방법\n",
    "- 상속을 이용, 새로운 클래스는 기존 클래스를 복사하지 않고, 기존 클래스의 모든 코드 사용\n",
    "\n",
    "### 부모 클래스 상속받기\n",
    "- 필요한 것만 추가하거나 변경해서 새 클래스 정의, 기존 클래스의 행동을 오버라이드 가능"
   ]
  },
  {
   "cell_type": "code",
   "execution_count": null,
   "metadata": {},
   "outputs": [],
   "source": []
  }
 ],
 "metadata": {
  "kernelspec": {
   "display_name": "base",
   "language": "python",
   "name": "python3"
  },
  "language_info": {
   "codemirror_mode": {
    "name": "ipython",
    "version": 3
   },
   "file_extension": ".py",
   "mimetype": "text/x-python",
   "name": "python",
   "nbconvert_exporter": "python",
   "pygments_lexer": "ipython3",
   "version": "3.11.5"
  }
 },
 "nbformat": 4,
 "nbformat_minor": 2
}
