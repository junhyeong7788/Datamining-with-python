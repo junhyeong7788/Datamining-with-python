{
 "cells": [
  {
   "cell_type": "code",
   "execution_count": 9,
   "metadata": {},
   "outputs": [
    {
     "name": "stdout",
     "output_type": "stream",
     "text": [
      "up\n",
      "up\n",
      "up\n",
      "실패했습니다.\n"
     ]
    }
   ],
   "source": [
    "import random\n",
    "\n",
    "randnum = random.randint(1, 11)\n",
    "\n",
    "input_num = 0\n",
    "cnt = 1\n",
    "\n",
    "while cnt < 4:\n",
    "    input_num = int(input(\"숫자를 입력하세요: \"))\n",
    "\n",
    "    if input_num > randnum:\n",
    "        print(\"down\")\n",
    "    elif input_num < randnum:\n",
    "        print(\"up\")\n",
    "    else:\n",
    "        print(\"정답입니다.\")\n",
    "        break\n",
    "    cnt = cnt + 1\n",
    "\n",
    "if cnt == 4:\n",
    "    print(\"실패했습니다.\")"
   ]
  },
  {
   "cell_type": "code",
   "execution_count": 12,
   "metadata": {},
   "outputs": [
    {
     "name": "stdout",
     "output_type": "stream",
     "text": [
      "두 점 사이의 거리는  0.0 입니다.\n"
     ]
    }
   ],
   "source": [
    "import math\n",
    "\n",
    "x1 = int(input(\"x1: \"))\n",
    "y1 = int(input(\"y1: \"))\n",
    "x2 = int(input(\"x2: \"))\n",
    "y2 = int(input(\"y2: \"))\n",
    "\n",
    "dx = x2-x1\n",
    "dy = y2-y1\n",
    "\n",
    "dist = math.sqrt((dx*dx + dy*dy))\n",
    "print(\"두 점 사이의 거리는 \", dist, \"입니다.\")\n"
   ]
  },
  {
   "cell_type": "code",
   "execution_count": 14,
   "metadata": {},
   "outputs": [
    {
     "name": "stdout",
     "output_type": "stream",
     "text": [
      "2023-11-22 13:48:40.009027\n",
      "2023 년11 월22 일13 시 48 분 40 초\n",
      "2023년 11월 22일\n"
     ]
    }
   ],
   "source": [
    "import datetime\n",
    "\n",
    "today = datetime.datetime.now()\n",
    "print(today)\n",
    "\n",
    "print(today.year, \"년\", end=\"\")\n",
    "print(today.month, \"월\", end=\"\")\n",
    "print(today.day, \"일\", end=\"\")\n",
    "\n",
    "print(today.hour, \"시\", today.minute, \"분\", today.second, \"초\")\n",
    "print(\"{}년 {}월 {}일\".format(today.year, today.month, today.day))"
   ]
  },
  {
   "cell_type": "code",
   "execution_count": 15,
   "metadata": {},
   "outputs": [
    {
     "name": "stdout",
     "output_type": "stream",
     "text": [
      "5초후 출력\n",
      "5초 지남\n"
     ]
    }
   ],
   "source": [
    "import time\n",
    "print(\"5초후 출력\")\n",
    "time.sleep(5)\n",
    "print(\"5초 지남\")"
   ]
  }
 ],
 "metadata": {
  "kernelspec": {
   "display_name": "base",
   "language": "python",
   "name": "python3"
  },
  "language_info": {
   "codemirror_mode": {
    "name": "ipython",
    "version": 3
   },
   "file_extension": ".py",
   "mimetype": "text/x-python",
   "name": "python",
   "nbconvert_exporter": "python",
   "pygments_lexer": "ipython3",
   "version": "3.11.5"
  }
 },
 "nbformat": 4,
 "nbformat_minor": 2
}
