{
 "cells": [
  {
   "cell_type": "code",
   "execution_count": 2,
   "metadata": {},
   "outputs": [
    {
     "name": "stdout",
     "output_type": "stream",
     "text": [
      "오늘은 2023년 10월 22일, 날씨는 흐림입니다.\n"
     ]
    }
   ],
   "source": [
    "str = \"오늘은 %4d년 %02d월 %02d일, 날씨는 %s입니다.\"\n",
    "\n",
    "year = int(input(\"연도를 입력하세요: \"))\n",
    "month = int(input(\"월을 입력하세요: \"))\n",
    "day = int(input(\"일을 입력하세요: \"))\n",
    "weather = input(\"날씨를 입력하세요: \")\n",
    "\n",
    "print(str % (year, month, day, weather))"
   ]
  },
  {
   "cell_type": "code",
   "execution_count": 4,
   "metadata": {},
   "outputs": [
    {
     "name": "stdout",
     "output_type": "stream",
     "text": [
      " 입력받은 문자열은 hello world!이고, 길이는 12입니다 \n"
     ]
    }
   ],
   "source": [
    "str = input(\"문자열을 입력하세요 : \\n\")\n",
    "str_len = len(str)\n",
    "\n",
    "print(\" 입력받은 문자열은 %s이고, 길이는 %d입니다 \" %(str, str_len))"
   ]
  },
  {
   "cell_type": "code",
   "execution_count": 5,
   "metadata": {},
   "outputs": [
    {
     "name": "stdout",
     "output_type": "stream",
     "text": [
      "입력한 문자열 ab ab abc abcd에는 ab가 4개 있습니다.\n"
     ]
    }
   ],
   "source": [
    "str = input(\"문자열을 입력하세요 : \\n\")\n",
    "str2 = input(\"검색할 문자열을 입력하세요 : \\n\")\n",
    "\n",
    "count = str.count(str2)\n",
    "\n",
    "print(\"입력한 문자열 %s에는 %s가 %d개 있습니다.\" %(str, str2, count))   "
   ]
  },
  {
   "cell_type": "code",
   "execution_count": 6,
   "metadata": {},
   "outputs": [
    {
     "name": "stdout",
     "output_type": "stream",
     "text": [
      "4\n",
      "4\n"
     ]
    }
   ],
   "source": [
    "str = input(\"문자열을 입력하세요 : \")\n",
    "str2 = input(\"검색할 문자열을 입력하세요 : \")\n",
    "\n",
    "print(str.find(str2)) # 문자열이 없으면 -1을 반환, 있으면 문자열의 인덱스 반환\n",
    "print(str.index(str2)) # 문자열이 없으면 오류 발생 , 있으면 문자열의 인덱스 반환"
   ]
  },
  {
   "cell_type": "code",
   "execution_count": 1,
   "metadata": {},
   "outputs": [
    {
     "name": "stdout",
     "output_type": "stream",
     "text": [
      "ABCD\n",
      "abcd\n"
     ]
    }
   ],
   "source": [
    "str = input(\"문자열을 입력하세요 : \")\n",
    "\n",
    "print(str.upper())\n",
    "print(str.lower())"
   ]
  }
 ],
 "metadata": {
  "kernelspec": {
   "display_name": "base",
   "language": "python",
   "name": "python3"
  },
  "language_info": {
   "codemirror_mode": {
    "name": "ipython",
    "version": 3
   },
   "file_extension": ".py",
   "mimetype": "text/x-python",
   "name": "python",
   "nbconvert_exporter": "python",
   "pygments_lexer": "ipython3",
   "version": "3.11.4"
  },
  "orig_nbformat": 4
 },
 "nbformat": 4,
 "nbformat_minor": 2
}
