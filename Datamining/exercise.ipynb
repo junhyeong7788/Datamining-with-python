{
 "cells": [
  {
   "cell_type": "code",
   "execution_count": 2,
   "metadata": {},
   "outputs": [
    {
     "name": "stdout",
     "output_type": "stream",
     "text": [
      "오늘은 2023년 10월 22일, 날씨는 흐림입니다.\n"
     ]
    }
   ],
   "source": [
    "str = \"오늘은 %4d년 %02d월 %02d일, 날씨는 %s입니다.\"\n",
    "\n",
    "year = int(input(\"연도를 입력하세요: \"))\n",
    "month = int(input(\"월을 입력하세요: \"))\n",
    "day = int(input(\"일을 입력하세요: \"))\n",
    "weather = input(\"날씨를 입력하세요: \")\n",
    "\n",
    "print(str % (year, month, day, weather))"
   ]
  },
  {
   "cell_type": "code",
   "execution_count": 4,
   "metadata": {},
   "outputs": [
    {
     "name": "stdout",
     "output_type": "stream",
     "text": [
      " 입력받은 문자열은 hello world!이고, 길이는 12입니다 \n"
     ]
    }
   ],
   "source": [
    "str = input(\"문자열을 입력하세요 : \\n\")\n",
    "str_len = len(str)\n",
    "\n",
    "print(\" 입력받은 문자열은 %s이고, 길이는 %d입니다 \" %(str, str_len))"
   ]
  },
  {
   "cell_type": "code",
   "execution_count": 5,
   "metadata": {},
   "outputs": [
    {
     "name": "stdout",
     "output_type": "stream",
     "text": [
      "입력한 문자열 ab ab abc abcd에는 ab가 4개 있습니다.\n"
     ]
    }
   ],
   "source": [
    "str = input(\"문자열을 입력하세요 : \\n\")\n",
    "str2 = input(\"검색할 문자열을 입력하세요 : \\n\")\n",
    "\n",
    "count = str.count(str2)\n",
    "\n",
    "print(\"입력한 문자열 %s에는 %s가 %d개 있습니다.\" %(str, str2, count))   "
   ]
  },
  {
   "cell_type": "code",
   "execution_count": 6,
   "metadata": {},
   "outputs": [
    {
     "name": "stdout",
     "output_type": "stream",
     "text": [
      "4\n",
      "4\n"
     ]
    }
   ],
   "source": [
    "str = input(\"문자열을 입력하세요 : \")\n",
    "str2 = input(\"검색할 문자열을 입력하세요 : \")\n",
    "\n",
    "print(str.find(str2)) # 문자열이 없으면 -1을 반환, 있으면 문자열의 인덱스 반환\n",
    "print(str.index(str2)) # 문자열이 없으면 오류 발생 , 있으면 문자열의 인덱스 반환"
   ]
  },
  {
   "cell_type": "code",
   "execution_count": 1,
   "metadata": {},
   "outputs": [
    {
     "name": "stdout",
     "output_type": "stream",
     "text": [
      "ABCD\n",
      "abcd\n"
     ]
    }
   ],
   "source": [
    "str = input(\"문자열을 입력하세요 : \")\n",
    "\n",
    "print(str.upper())\n",
    "print(str.lower())"
   ]
  },
  {
   "cell_type": "code",
   "execution_count": 17,
   "metadata": {},
   "outputs": [
    {
     "name": "stdout",
     "output_type": "stream",
     "text": [
      "응시했습니다.\n",
      "F학점 입니다.\n"
     ]
    }
   ],
   "source": [
    "key = int(input(\"시험 응시 여부를 입력하세요(응시 : 1, 미응시 : 1이외의 수) : \"))\n",
    "\n",
    "\n",
    "if key == 1 : #콜론 포함 필수 !\n",
    "    print(\"응시했습니다.\")\n",
    "    grade = int(input(\"점수를 입력하세요 : \"))\n",
    "\n",
    "    if grade > 90 : #if 다음엔 if못쓰고 else써야함\n",
    "        print(\"A학점 입니다.\")\n",
    "    else :\n",
    "        if grade > 80 : \n",
    "            print(\"B학점 입니다.\")\n",
    "        else :\n",
    "            if grade > 70 :\n",
    "                print(\"C학점 입니다.\")\n",
    "            else :\n",
    "                if grade > 60 :\n",
    "                    print(\"D학점 입니다.\")\n",
    "                else : \n",
    "                    print(\"F학점 입니다.\")\n",
    "else :\n",
    "    print(\"미응시했습니다\")\n",
    "    \n"
   ]
  },
  {
   "cell_type": "code",
   "execution_count": 28,
   "metadata": {},
   "outputs": [
    {
     "name": "stdout",
     "output_type": "stream",
     "text": [
      "응시했습니다.\n",
      "F학점 입니다.\n"
     ]
    }
   ],
   "source": [
    "key = int(input(\"시험 응시 여부를 입력하세요(응시 : 1, 미응시 : 1이외의 수) : \"))\n",
    "\n",
    "\n",
    "if key == 1 : #콜론 포함 필수 !\n",
    "    print(\"응시했습니다.\")\n",
    "    grade = int(input(\"점수를 입력하세요 : \"))\n",
    "\n",
    "    if (grade > 90 and grade <= 100) : #if 다음엔 if못쓰고 else써야함\n",
    "        print(\"A학점 입니다.\")\n",
    "    else :\n",
    "        if (grade > 80 and grade <= 90) : \n",
    "            print(\"B학점 입니다.\")\n",
    "        else :\n",
    "            if (grade > 70 and grade <= 80) :\n",
    "                print(\"C학점 입니다.\")\n",
    "            else :\n",
    "                if (grade > 60 and grade <= 70) :\n",
    "                    print(\"D학점 입니다.\")\n",
    "                else :\n",
    "                    if (grade > 0 and grade <= 60) :\n",
    "                        print(\"F학점 입니다.\")\n",
    "                    else : \n",
    "                        print(\"0~100사이의 점수를 입력하세요\")\n",
    "else :\n",
    "    print(\"미응시했습니다\")\n",
    "    \n"
   ]
  },
  {
   "cell_type": "code",
   "execution_count": 19,
   "metadata": {},
   "outputs": [
    {
     "name": "stdout",
     "output_type": "stream",
     "text": [
      "2을(를) 입력하였습니다.\n"
     ]
    }
   ],
   "source": [
    "s = [1, 2 ,3]\n",
    "\n",
    "x = int(input(\"1~3사이의 수를 입력하세요 : \"))\n",
    "\n",
    "if(x in s) :\n",
    "    print(\"%d을(를) 입력하였습니다.\" %(x))\n",
    "else :\n",
    "    print(\"%d은(는) 없는 숫자입니다\" %(x))"
   ]
  },
  {
   "cell_type": "code",
   "execution_count": 22,
   "metadata": {},
   "outputs": [
    {
     "name": "stdout",
     "output_type": "stream",
     "text": [
      "응시했습니다.\n",
      "A학점 입니다.\n"
     ]
    }
   ],
   "source": [
    "#중첩제어문 사용\n",
    "key = int(input(\"시험 응시 여부를 입력하세요(응시 : 1, 미응시 : 1이외의 수) : \"))\n",
    "\n",
    "\n",
    "if key == 1 : #콜론 포함 필수 !\n",
    "    print(\"응시했습니다.\")\n",
    "    grade = int(input(\"점수를 입력하세요 : \"))\n",
    "\n",
    "    if (grade > 90 and grade <= 100) : #elif 중첩제어문 사용\n",
    "        print(\"A학점 입니다.\")\n",
    "    elif (grade > 80 and grade <= 90) : \n",
    "        print(\"B학점 입니다.\")\n",
    "    elif (grade > 70 and grade <= 80) :\n",
    "        print(\"C학점 입니다.\")\n",
    "    elif (grade > 60 and grade <= 70) :\n",
    "        print(\"D학점 입니다.\")\n",
    "    elif (grade > 0 and grade <= 60) :\n",
    "        print(\"F학점 입니다.\")\n",
    "    else :\n",
    "        print(\"0~100사이의 점수를 입력하세요\")\n",
    "else : \n",
    "    print(\"미응시했습니다\")    \n"
   ]
  },
  {
   "cell_type": "code",
   "execution_count": 31,
   "metadata": {},
   "outputs": [
    {
     "name": "stdout",
     "output_type": "stream",
     "text": [
      "10 + 10 = 20\n"
     ]
    }
   ],
   "source": [
    "#사칙연산 프로그램\n",
    "''' 1. 두수와 연산자를 입력 받아 이를 출력\n",
    "2. 두수에 해당하는 변수 : num1,. num2\n",
    "3. 연산자에 해당하는 변수 : op\n",
    "4. 계산 결과를 저장하는 변수 : result\n",
    "5. 연산자를 잘 못 입력했을 경우 잘 못 입력하였다는 메세지 출력'''\n",
    "\n",
    "num1 = int(input(\"숫자 1을 입력하세요 : \"))\n",
    "num2 = int(input(\"숫자 2를 입력하세요 : \"))\n",
    "op = input(\"연산자를 입력하세요 (+, -, *, /) : \")\n",
    "result = 0\n",
    "\n",
    "if (op == '+') : #파이썬은 if문 뒤에 괄호 없어도 됨\n",
    "    result = num1 + num2\n",
    "    print(num1, op, num2, \"=\", result)\n",
    "elif (op == \"-\") :\n",
    "    result = num1 - num2\n",
    "    print(num1, op, num2, \"=\", result)\n",
    "elif (op == '*') :\n",
    "    result = num1 * num2\n",
    "    print(num1, op, num2, \"=\", result)\n",
    "elif (op == '/') :\n",
    "    result = num1 / num2\n",
    "    print(num1, op, num2, \"=\", result)\n",
    "else : \n",
    "    print(\"연산자를 잘못 입력하셨습니다.\")"
   ]
  },
  {
   "cell_type": "code",
   "execution_count": null,
   "metadata": {},
   "outputs": [],
   "source": []
  }
 ],
 "metadata": {
  "kernelspec": {
   "display_name": "base",
   "language": "python",
   "name": "python3"
  },
  "language_info": {
   "codemirror_mode": {
    "name": "ipython",
    "version": 3
   },
   "file_extension": ".py",
   "mimetype": "text/x-python",
   "name": "python",
   "nbconvert_exporter": "python",
   "pygments_lexer": "ipython3",
   "version": "3.11.4"
  },
  "orig_nbformat": 4
 },
 "nbformat": 4,
 "nbformat_minor": 2
}
