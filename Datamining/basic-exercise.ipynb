{
 "cells": [
  {
   "cell_type": "code",
   "execution_count": 2,
   "metadata": {},
   "outputs": [
    {
     "name": "stdout",
     "output_type": "stream",
     "text": [
      "오늘은 2023년 10월 22일, 날씨는 흐림입니다.\n"
     ]
    }
   ],
   "source": [
    "str = \"오늘은 %4d년 %02d월 %02d일, 날씨는 %s입니다.\"\n",
    "\n",
    "year = int(input(\"연도를 입력하세요: \"))\n",
    "month = int(input(\"월을 입력하세요: \"))\n",
    "day = int(input(\"일을 입력하세요: \"))\n",
    "weather = input(\"날씨를 입력하세요: \")\n",
    "\n",
    "print(str % (year, month, day, weather))"
   ]
  },
  {
   "cell_type": "code",
   "execution_count": 4,
   "metadata": {},
   "outputs": [
    {
     "name": "stdout",
     "output_type": "stream",
     "text": [
      " 입력받은 문자열은 hello world!이고, 길이는 12입니다 \n"
     ]
    }
   ],
   "source": [
    "str = input(\"문자열을 입력하세요 : \\n\")\n",
    "str_len = len(str)\n",
    "\n",
    "print(\" 입력받은 문자열은 %s이고, 길이는 %d입니다 \" %(str, str_len))"
   ]
  },
  {
   "cell_type": "code",
   "execution_count": 5,
   "metadata": {},
   "outputs": [
    {
     "name": "stdout",
     "output_type": "stream",
     "text": [
      "입력한 문자열 ab ab abc abcd에는 ab가 4개 있습니다.\n"
     ]
    }
   ],
   "source": [
    "str = input(\"문자열을 입력하세요 : \\n\")\n",
    "str2 = input(\"검색할 문자열을 입력하세요 : \\n\")\n",
    "\n",
    "count = str.count(str2)\n",
    "\n",
    "print(\"입력한 문자열 %s에는 %s가 %d개 있습니다.\" %(str, str2, count))   "
   ]
  },
  {
   "cell_type": "code",
   "execution_count": 6,
   "metadata": {},
   "outputs": [
    {
     "name": "stdout",
     "output_type": "stream",
     "text": [
      "4\n",
      "4\n"
     ]
    }
   ],
   "source": [
    "str = input(\"문자열을 입력하세요 : \")\n",
    "str2 = input(\"검색할 문자열을 입력하세요 : \")\n",
    "\n",
    "print(str.find(str2)) # 문자열이 없으면 -1을 반환, 있으면 문자열의 인덱스 반환\n",
    "print(str.index(str2)) # 문자열이 없으면 오류 발생 , 있으면 문자열의 인덱스 반환"
   ]
  },
  {
   "cell_type": "code",
   "execution_count": 1,
   "metadata": {},
   "outputs": [
    {
     "name": "stdout",
     "output_type": "stream",
     "text": [
      "ABCD\n",
      "abcd\n"
     ]
    }
   ],
   "source": [
    "str = input(\"문자열을 입력하세요 : \")\n",
    "\n",
    "print(str.upper())\n",
    "print(str.lower())"
   ]
  },
  {
   "cell_type": "code",
   "execution_count": 17,
   "metadata": {},
   "outputs": [
    {
     "name": "stdout",
     "output_type": "stream",
     "text": [
      "응시했습니다.\n",
      "F학점 입니다.\n"
     ]
    }
   ],
   "source": [
    "key = int(input(\"시험 응시 여부를 입력하세요(응시 : 1, 미응시 : 1이외의 수) : \"))\n",
    "\n",
    "\n",
    "if key == 1 : #콜론 포함 필수 !\n",
    "    print(\"응시했습니다.\")\n",
    "    grade = int(input(\"점수를 입력하세요 : \"))\n",
    "\n",
    "    if grade > 90 : #if 다음엔 if못쓰고 else써야함\n",
    "        print(\"A학점 입니다.\")\n",
    "    else :\n",
    "        if grade > 80 : \n",
    "            print(\"B학점 입니다.\")\n",
    "        else :\n",
    "            if grade > 70 :\n",
    "                print(\"C학점 입니다.\")\n",
    "            else :\n",
    "                if grade > 60 :\n",
    "                    print(\"D학점 입니다.\")\n",
    "                else : \n",
    "                    print(\"F학점 입니다.\")\n",
    "else :\n",
    "    print(\"미응시했습니다\")\n",
    "    \n"
   ]
  },
  {
   "cell_type": "code",
   "execution_count": 28,
   "metadata": {},
   "outputs": [
    {
     "name": "stdout",
     "output_type": "stream",
     "text": [
      "응시했습니다.\n",
      "F학점 입니다.\n"
     ]
    }
   ],
   "source": [
    "key = int(input(\"시험 응시 여부를 입력하세요(응시 : 1, 미응시 : 1이외의 수) : \"))\n",
    "\n",
    "\n",
    "if key == 1 : #콜론 포함 필수 !\n",
    "    print(\"응시했습니다.\")\n",
    "    grade = int(input(\"점수를 입력하세요 : \"))\n",
    "\n",
    "    if (grade > 90 and grade <= 100) : #if 다음엔 if못쓰고 else써야함\n",
    "        print(\"A학점 입니다.\")\n",
    "    else :\n",
    "        if (grade > 80 and grade <= 90) : \n",
    "            print(\"B학점 입니다.\")\n",
    "        else :\n",
    "            if (grade > 70 and grade <= 80) :\n",
    "                print(\"C학점 입니다.\")\n",
    "            else :\n",
    "                if (grade > 60 and grade <= 70) :\n",
    "                    print(\"D학점 입니다.\")\n",
    "                else :\n",
    "                    if (grade > 0 and grade <= 60) :\n",
    "                        print(\"F학점 입니다.\")\n",
    "                    else : \n",
    "                        print(\"0~100사이의 점수를 입력하세요\")\n",
    "else :\n",
    "    print(\"미응시했습니다\")\n",
    "    \n"
   ]
  },
  {
   "cell_type": "code",
   "execution_count": 19,
   "metadata": {},
   "outputs": [
    {
     "name": "stdout",
     "output_type": "stream",
     "text": [
      "2을(를) 입력하였습니다.\n"
     ]
    }
   ],
   "source": [
    "s = [1, 2 ,3]\n",
    "\n",
    "x = int(input(\"1~3사이의 수를 입력하세요 : \"))\n",
    "\n",
    "if(x in s) :\n",
    "    print(\"%d을(를) 입력하였습니다.\" %(x))\n",
    "else :\n",
    "    print(\"%d은(는) 없는 숫자입니다\" %(x))"
   ]
  },
  {
   "cell_type": "code",
   "execution_count": 22,
   "metadata": {},
   "outputs": [
    {
     "name": "stdout",
     "output_type": "stream",
     "text": [
      "응시했습니다.\n",
      "A학점 입니다.\n"
     ]
    }
   ],
   "source": [
    "#중첩제어문 사용\n",
    "key = int(input(\"시험 응시 여부를 입력하세요(응시 : 1, 미응시 : 1이외의 수) : \"))\n",
    "\n",
    "\n",
    "if key == 1 : #콜론 포함 필수 !\n",
    "    print(\"응시했습니다.\")\n",
    "    grade = int(input(\"점수를 입력하세요 : \"))\n",
    "\n",
    "    if (grade > 90 and grade <= 100) : #elif 중첩제어문 사용\n",
    "        print(\"A학점 입니다.\")\n",
    "    elif (grade > 80 and grade <= 90) : \n",
    "        print(\"B학점 입니다.\")\n",
    "    elif (grade > 70 and grade <= 80) :\n",
    "        print(\"C학점 입니다.\")\n",
    "    elif (grade > 60 and grade <= 70) :\n",
    "        print(\"D학점 입니다.\")\n",
    "    elif (grade > 0 and grade <= 60) :\n",
    "        print(\"F학점 입니다.\")\n",
    "    else :\n",
    "        print(\"0~100사이의 점수를 입력하세요\")\n",
    "else : \n",
    "    print(\"미응시했습니다\")    \n"
   ]
  },
  {
   "cell_type": "code",
   "execution_count": 31,
   "metadata": {},
   "outputs": [
    {
     "name": "stdout",
     "output_type": "stream",
     "text": [
      "10 + 10 = 20\n"
     ]
    }
   ],
   "source": [
    "#사칙연산 프로그램\n",
    "''' 1. 두수와 연산자를 입력 받아 이를 출력\n",
    "2. 두수에 해당하는 변수 : num1,. num2\n",
    "3. 연산자에 해당하는 변수 : op\n",
    "4. 계산 결과를 저장하는 변수 : result\n",
    "5. 연산자를 잘 못 입력했을 경우 잘 못 입력하였다는 메세지 출력'''\n",
    "\n",
    "num1 = int(input(\"숫자 1을 입력하세요 : \"))\n",
    "num2 = int(input(\"숫자 2를 입력하세요 : \"))\n",
    "op = input(\"연산자를 입력하세요 (+, -, *, /) : \")\n",
    "result = 0\n",
    "\n",
    "if (op == '+') : #파이썬은 if문 뒤에 괄호 없어도 됨\n",
    "    result = num1 + num2\n",
    "    print(num1, op, num2, \"=\", result)\n",
    "elif (op == \"-\") :\n",
    "    result = num1 - num2\n",
    "    print(num1, op, num2, \"=\", result)\n",
    "elif (op == '*') :\n",
    "    result = num1 * num2\n",
    "    print(num1, op, num2, \"=\", result)\n",
    "elif (op == '/') :\n",
    "    result = num1 / num2\n",
    "    print(num1, op, num2, \"=\", result)\n",
    "else : \n",
    "    print(\"연산자를 잘못 입력하셨습니다.\")"
   ]
  },
  {
   "cell_type": "code",
   "execution_count": 5,
   "metadata": {},
   "outputs": [
    {
     "name": "stdout",
     "output_type": "stream",
     "text": [
      "Hello Flutter\n",
      "Hello Flutter\n",
      "Hello Flutter\n",
      "Hello Flutter\n",
      "Hello Flutter\n",
      "1 번쨰 학생의 성적\n",
      "2 번쨰 학생의 성적\n",
      "3 번쨰 학생의 성적\n",
      "4 번쨰 학생의 성적\n",
      "5 번쨰 학생의 성적\n"
     ]
    }
   ],
   "source": [
    "for i in range(5) :\n",
    "    print(\"Hello Flutter\")\n",
    "for student in [1, 2, 3, 4, 5] : #리스트\n",
    "    print(student, \"번쨰 학생의 성적\")\n"
   ]
  },
  {
   "cell_type": "code",
   "execution_count": 6,
   "metadata": {},
   "outputs": [
    {
     "name": "stdout",
     "output_type": "stream",
     "text": [
      "3\n",
      "5\n",
      "11\n"
     ]
    }
   ],
   "source": [
    "a = [(1,2), (2,3), (5,6)] #튜플\n",
    "for (first, last) in a :\n",
    "    print(first+last)"
   ]
  },
  {
   "cell_type": "code",
   "execution_count": 11,
   "metadata": {},
   "outputs": [
    {
     "name": "stdout",
     "output_type": "stream",
     "text": [
      "1 번쨰, 안녕하세요? 파이썬과 데이터 마이닝 입니다.\n",
      "2 번쨰, 안녕하세요? 파이썬과 데이터 마이닝 입니다.\n",
      "3 번쨰, 안녕하세요? 파이썬과 데이터 마이닝 입니다.\n",
      "4 번쨰, 안녕하세요? 파이썬과 데이터 마이닝 입니다.\n",
      "5 번쨰, 안녕하세요? 파이썬과 데이터 마이닝 입니다.\n",
      "6 번쨰, 안녕하세요? 파이썬과 데이터 마이닝 입니다.\n",
      "7 번쨰, 안녕하세요? 파이썬과 데이터 마이닝 입니다.\n",
      "8 번쨰, 안녕하세요? 파이썬과 데이터 마이닝 입니다.\n",
      "9 번쨰, 안녕하세요? 파이썬과 데이터 마이닝 입니다.\n",
      "10 번쨰, 안녕하세요? 파이썬과 데이터 마이닝 입니다.\n"
     ]
    }
   ],
   "source": [
    "for  a in range(0, 10, 1) :\n",
    "    print(a+1, \"번쨰, 안녕하세요? 파이썬과 데이터 마이닝 입니다.\")\n",
    "\n",
    "#for a in range(1, 11, 1):\n",
    "#    print(a, \"번쨰, 안녕하세요? 파이썬과 데이터 마이닝 입니다.\")\n",
    "\n",
    "#for a in range(10) :\n",
    "#    print(a+1, (\"번쨰, 안녕하세요? 파이썬과 데이터 마이닝 입니다.\"))"
   ]
  },
  {
   "cell_type": "code",
   "execution_count": 14,
   "metadata": {},
   "outputs": [
    {
     "name": "stdout",
     "output_type": "stream",
     "text": [
      "1번째 학생은 합격입니다.\n",
      "2번째 학생은 합격입니다.\n",
      "5번째 학생은 합격입니다.\n"
     ]
    }
   ],
   "source": [
    "#for문 실습예제 1\n",
    "#반복문에 제어 조건을 넣으면서 특정한 조건에 반응하는 프로그램을 작성할 수 있음\n",
    "#리스트에 있는 학생의 점수를 기준으로 70점 이상이면 합격, 그렇지 않으면 불합격을 출력\n",
    "#학생의 점수는 students = [100, 70, 50, 25, 85]으로 합니다.\n",
    "\n",
    "student = [100, 70, 50, 25, 85]\n",
    "number = 0\n",
    "\n",
    "for score in student :\n",
    "    number = number + 1\n",
    "    if score >= 70 :\n",
    "        print('%d번째 학생은 합격입니다.'%number)\n",
    "    else :\n",
    "        print('%d번째 학생은 불합격입니다.'%number)\n",
    "\n"
   ]
  },
  {
   "cell_type": "code",
   "execution_count": 19,
   "metadata": {},
   "outputs": [
    {
     "name": "stdout",
     "output_type": "stream",
     "text": [
      "1번째 학생은 합격입니다.\n",
      "2번째 학생은 합격입니다.\n",
      "5번째 학생은 합격입니다.\n"
     ]
    }
   ],
   "source": [
    "student = [100, 70, 50, 25, 85]\n",
    "number = 0\n",
    "\n",
    "for score in student :\n",
    "    number = number + 1\n",
    "    if score < 70 : continue #continue문을 만나면 for문의 첫 부분(조건부분)으로 이동\n",
    "    print(\"%d번째 학생은 합격입니다.\" %number)"
   ]
  },
  {
   "cell_type": "code",
   "execution_count": 25,
   "metadata": {},
   "outputs": [
    {
     "name": "stdout",
     "output_type": "stream",
     "text": [
      "1 +  2 +  3 +  4 +  5 +  6 +  7 +  8 +  9 +  10 =  55\n"
     ]
    }
   ],
   "source": [
    "sum = 0\n",
    "i = 1 \n",
    "\n",
    "while (i <= 10) :\n",
    "    sum = sum+i\n",
    "\n",
    "    if ( i<10 ):\n",
    "        print(\"%d + \"%i, end = ' ')\n",
    "    else :\n",
    "        print(\"%d = \"%i, end = ' ')\n",
    "    i = i + 1\n",
    "\n",
    "print(sum)"
   ]
  },
  {
   "cell_type": "code",
   "execution_count": 29,
   "metadata": {},
   "outputs": [
    {
     "name": "stdout",
     "output_type": "stream",
     "text": [
      "5050\n"
     ]
    }
   ],
   "source": [
    "sum = 0\n",
    "i = 1\n",
    "\n",
    "while (i <= 100) :\n",
    "    sum = sum + i \n",
    "    i = i + 1\n",
    "    \n",
    "print(sum)"
   ]
  },
  {
   "cell_type": "code",
   "execution_count": 38,
   "metadata": {},
   "outputs": [],
   "source": [
    "flag = 1\n",
    "\n",
    "while flag : \n",
    "    student = int(input(\"학생점수를 입력하세요 : \"))\n",
    "    if student > 100 or student < 0:\n",
    "        break\n",
    "    print(student)"
   ]
  },
  {
   "cell_type": "code",
   "execution_count": 37,
   "metadata": {},
   "outputs": [
    {
     "name": "stdout",
     "output_type": "stream",
     "text": [
      "2\n",
      "2 * 1 = 2\n",
      "\n",
      "2 * 2 = 4\n",
      "\n",
      "2 * 3 = 6\n",
      "\n",
      "2 * 4 = 8\n",
      "\n",
      "2 * 5 = 10\n",
      "\n",
      "2 * 6 = 12\n",
      "\n",
      "2 * 7 = 14\n",
      "\n",
      "2 * 8 = 16\n",
      "\n",
      "2 * 9 = 18\n",
      "\n",
      "3\n",
      "3 * 1 = 3\n",
      "\n",
      "3 * 2 = 6\n",
      "\n",
      "3 * 3 = 9\n",
      "\n",
      "3 * 4 = 12\n",
      "\n",
      "3 * 5 = 15\n",
      "\n",
      "3 * 6 = 18\n",
      "\n",
      "3 * 7 = 21\n",
      "\n",
      "3 * 8 = 24\n",
      "\n",
      "3 * 9 = 27\n",
      "\n",
      "4\n",
      "4 * 1 = 4\n",
      "\n",
      "4 * 2 = 8\n",
      "\n",
      "4 * 3 = 12\n",
      "\n",
      "4 * 4 = 16\n",
      "\n",
      "4 * 5 = 20\n",
      "\n",
      "4 * 6 = 24\n",
      "\n",
      "4 * 7 = 28\n",
      "\n",
      "4 * 8 = 32\n",
      "\n",
      "4 * 9 = 36\n",
      "\n",
      "5\n",
      "5 * 1 = 5\n",
      "\n",
      "5 * 2 = 10\n",
      "\n",
      "5 * 3 = 15\n",
      "\n",
      "5 * 4 = 20\n",
      "\n",
      "5 * 5 = 25\n",
      "\n",
      "5 * 6 = 30\n",
      "\n",
      "5 * 7 = 35\n",
      "\n",
      "5 * 8 = 40\n",
      "\n",
      "5 * 9 = 45\n",
      "\n",
      "6\n",
      "6 * 1 = 6\n",
      "\n",
      "6 * 2 = 12\n",
      "\n",
      "6 * 3 = 18\n",
      "\n",
      "6 * 4 = 24\n",
      "\n",
      "6 * 5 = 30\n",
      "\n",
      "6 * 6 = 36\n",
      "\n",
      "6 * 7 = 42\n",
      "\n",
      "6 * 8 = 48\n",
      "\n",
      "6 * 9 = 54\n",
      "\n",
      "7\n",
      "7 * 1 = 7\n",
      "\n",
      "7 * 2 = 14\n",
      "\n",
      "7 * 3 = 21\n",
      "\n",
      "7 * 4 = 28\n",
      "\n",
      "7 * 5 = 35\n",
      "\n",
      "7 * 6 = 42\n",
      "\n",
      "7 * 7 = 49\n",
      "\n",
      "7 * 8 = 56\n",
      "\n",
      "7 * 9 = 63\n",
      "\n",
      "8\n",
      "8 * 1 = 8\n",
      "\n",
      "8 * 2 = 16\n",
      "\n",
      "8 * 3 = 24\n",
      "\n",
      "8 * 4 = 32\n",
      "\n",
      "8 * 5 = 40\n",
      "\n",
      "8 * 6 = 48\n",
      "\n",
      "8 * 7 = 56\n",
      "\n",
      "8 * 8 = 64\n",
      "\n",
      "8 * 9 = 72\n",
      "\n",
      "9\n",
      "9 * 1 = 9\n",
      "\n",
      "9 * 2 = 18\n",
      "\n",
      "9 * 3 = 27\n",
      "\n",
      "9 * 4 = 36\n",
      "\n",
      "9 * 5 = 45\n",
      "\n",
      "9 * 6 = 54\n",
      "\n",
      "9 * 7 = 63\n",
      "\n",
      "9 * 8 = 72\n",
      "\n",
      "9 * 9 = 81\n",
      "\n"
     ]
    }
   ],
   "source": [
    "for dan in range(2, 10, 1):\n",
    "    print(\"%d\"%dan)\n",
    "    for hang in range(1, 10):\n",
    "        print(dan, \"*\", hang, \"=\", dan * hang)\n",
    "        print()"
   ]
  }
 ],
 "metadata": {
  "kernelspec": {
   "display_name": "base",
   "language": "python",
   "name": "python3"
  },
  "language_info": {
   "codemirror_mode": {
    "name": "ipython",
    "version": 3
   },
   "file_extension": ".py",
   "mimetype": "text/x-python",
   "name": "python",
   "nbconvert_exporter": "python",
   "pygments_lexer": "ipython3",
   "version": "3.11.5"
  },
  "orig_nbformat": 4
 },
 "nbformat": 4,
 "nbformat_minor": 2
}
