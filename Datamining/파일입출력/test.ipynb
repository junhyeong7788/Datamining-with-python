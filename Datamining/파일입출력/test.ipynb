{
 "cells": [
  {
   "cell_type": "markdown",
   "metadata": {},
   "source": [
    "## 파일생성하기"
   ]
  },
  {
   "cell_type": "code",
   "execution_count": 7,
   "metadata": {},
   "outputs": [],
   "source": [
    "f = open(\"test.txt\", \"wt\") #파일 입출력 준비 및 파일 객체 반환\n",
    "f.write(\"\"\" 동해물과 백두산이 마르고 닳도록, \n",
    "하느님이 보우하사 우리나라 만세\n",
    "무궁화 삼천리 화려강산 대한 사람 대한으로 길이 보전하세 \"\"\") #출력할 데이터 인수로 전달하여 write()함수호출\n",
    "f.close() #파일 사용 후 close()함수로 닫기"
   ]
  },
  {
   "cell_type": "code",
   "execution_count": 8,
   "metadata": {},
   "outputs": [
    {
     "name": "stdout",
     "output_type": "stream",
     "text": [
      " 동해물과 백두산이 마르고 닳도록, \n",
      "하느님이 보우하사 우리나라 만세\n",
      "무궁화 삼천리 화려강산 대한 사람 대한으로 길이 보전하세 \n",
      "\n"
     ]
    }
   ],
   "source": [
    "f = open(\"test.txt\", \"r\")\n",
    "line = f.read() #파일 데이터 읽기\n",
    "print(line)\n",
    "\n",
    "print()\n"
   ]
  },
  {
   "cell_type": "code",
   "execution_count": 10,
   "metadata": {},
   "outputs": [
    {
     "name": "stdout",
     "output_type": "stream",
     "text": [
      "동해물과 백두산이 마르고 닳도록,\n",
      "하느님이 보우하사 우리나라 만세\n",
      "\n",
      "무궁화 삼천리 화려강산 대한 사람 대한으로 길이 보전하세  \n",
      "\n"
     ]
    }
   ],
   "source": [
    "f.seek(0,0)  #seek() : 파일 안에서 포인터를 이동할 때 사용, 보통 0,0을 주어서 파일 처음으로 돌아갈때 사용\n",
    "line1 = f.readline().strip() #첫 개행문자가 나올 때까지 문자열을 반환, EOF 앞에 개행문자가 있으면 이것도 반환\n",
    "line2 = f.readline()\n",
    "line3 = f.readline()\n",
    "\n",
    "print(line1)\n",
    "print(line2)\n",
    "print(line3, end = ' ')\n",
    "\n",
    "print(\"\\n\")"
   ]
  },
  {
   "cell_type": "code",
   "execution_count": null,
   "metadata": {},
   "outputs": [],
   "source": []
  }
 ],
 "metadata": {
  "kernelspec": {
   "display_name": "base",
   "language": "python",
   "name": "python3"
  },
  "language_info": {
   "codemirror_mode": {
    "name": "ipython",
    "version": 3
   },
   "file_extension": ".py",
   "mimetype": "text/x-python",
   "name": "python",
   "nbconvert_exporter": "python",
   "pygments_lexer": "ipython3",
   "version": "3.11.5"
  }
 },
 "nbformat": 4,
 "nbformat_minor": 2
}
