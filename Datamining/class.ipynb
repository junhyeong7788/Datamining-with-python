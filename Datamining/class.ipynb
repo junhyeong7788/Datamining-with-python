{
 "cells": [
  {
   "cell_type": "code",
   "execution_count": 1,
   "metadata": {},
   "outputs": [
    {
     "name": "stdout",
     "output_type": "stream",
     "text": [
      "3\n",
      "7\n"
     ]
    }
   ],
   "source": [
    "# calculator.py\n",
    "result = 0\n",
    "\n",
    "def add(num):\n",
    "    global result\n",
    "    result += num  # 결괏값(result)에 입력값(num) 더하기\n",
    "    return result  # 결괏값 리턴\n",
    "\n",
    "print(add(3))\n",
    "print(add(4))"
   ]
  },
  {
   "cell_type": "code",
   "execution_count": 2,
   "metadata": {},
   "outputs": [
    {
     "name": "stdout",
     "output_type": "stream",
     "text": [
      "3\n",
      "7\n",
      "3\n",
      "10\n"
     ]
    }
   ],
   "source": [
    "# calculator2.py, 한 프로그램에서 2대의 계산기가 필요한 상황\n",
    "result1 = 0\n",
    "result2 = 0\n",
    "\n",
    "def add1(num):  # 계산기1\n",
    "    global result1\n",
    "    result1 += num\n",
    "    return result1\n",
    "\n",
    "def add2(num):  # 계산기2\n",
    "    global result2\n",
    "    result2 += num\n",
    "    return result2\n",
    "\n",
    "print(add1(3))\n",
    "print(add1(4))\n",
    "print(add2(3))\n",
    "print(add2(7))\n",
    "\n",
    "#계산기가 3개, 5개, 10개로 점점 더 많이 필요해진다면 어떻게 해야 할까? -> 이럴 때 클래스를 사용"
   ]
  },
  {
   "cell_type": "markdown",
   "metadata": {},
   "source": [
    "### 계산기가 3개, 5개, 10개로 점점 더 많이 필요해진다면 어떻게 해야 할까? \n",
    "-> 이럴 때 클래스를 사용 \n",
    "\n",
    "### 클래스 = 과자틀, \n",
    "### 과자 틀로 찍어낸 과자 = 객체\n",
    "\n",
    "클래스로 만든 객체는 객체마다 고유한 성격을 가진다\n",
    "\n",
    "# 객체와 인스턴스의 차이\n",
    "클래스로 만든 객체 = 인스턴스\n",
    "\n",
    "a = Cookie()로 만든 a는 객체이다.  \n",
    "그리고 a 객체는 Cookie의 인스턴스이다.  \n",
    "즉, 인스턴스라는 말은 특정 객체(a)가 어떤 클래스(Cookie)의 객체인지를  관계 위주로 설명할 때 사용  \n",
    "\n",
    "- 'a는 인스턴스'보다 'a는 객체'라는 표현이 어울린다.\n",
    "- 'a는 Cookie의 객체'보다 'a는 Cookie의 인스턴스'라는 표현이 어울린다.\n"
   ]
  },
  {
   "cell_type": "code",
   "execution_count": 12,
   "metadata": {},
   "outputs": [
    {
     "data": {
      "text/plain": [
       "12"
      ]
     },
     "execution_count": 12,
     "metadata": {},
     "output_type": "execute_result"
    }
   ],
   "source": [
    "class FourCal:\n",
    "    def setdata(self, first, second):\n",
    "        self.first = first\n",
    "        self.second = second\n",
    "    def add(self): #add 매서드 추가\n",
    "        result = self.first + self.second\n",
    "        return result\n",
    "     \n",
    "a = FourCal()\n",
    "a.setdata(10,2)\n",
    "a.add()\n"
   ]
  },
  {
   "cell_type": "code",
   "execution_count": null,
   "metadata": {},
   "outputs": [],
   "source": []
  }
 ],
 "metadata": {
  "kernelspec": {
   "display_name": "base",
   "language": "python",
   "name": "python3"
  },
  "language_info": {
   "codemirror_mode": {
    "name": "ipython",
    "version": 3
   },
   "file_extension": ".py",
   "mimetype": "text/x-python",
   "name": "python",
   "nbconvert_exporter": "python",
   "pygments_lexer": "ipython3",
   "version": "3.11.5"
  }
 },
 "nbformat": 4,
 "nbformat_minor": 2
}
