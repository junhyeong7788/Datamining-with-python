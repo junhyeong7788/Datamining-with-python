{
 "cells": [
  {
   "cell_type": "code",
   "execution_count": 1,
   "metadata": {},
   "outputs": [
    {
     "name": "stdout",
     "output_type": "stream",
     "text": [
      "3\n",
      "7\n"
     ]
    }
   ],
   "source": [
    "# calculator.py\n",
    "result = 0\n",
    "\n",
    "def add(num):\n",
    "    global result\n",
    "    result += num  # 결괏값(result)에 입력값(num) 더하기\n",
    "    return result  # 결괏값 리턴\n",
    "\n",
    "print(add(3))\n",
    "print(add(4))"
   ]
  },
  {
   "cell_type": "code",
   "execution_count": 2,
   "metadata": {},
   "outputs": [
    {
     "name": "stdout",
     "output_type": "stream",
     "text": [
      "3\n",
      "7\n",
      "3\n",
      "10\n"
     ]
    }
   ],
   "source": [
    "# calculator2.py, 한 프로그램에서 2대의 계산기가 필요한 상황\n",
    "result1 = 0\n",
    "result2 = 0\n",
    "\n",
    "def add1(num):  # 계산기1\n",
    "    global result1\n",
    "    result1 += num\n",
    "    return result1\n",
    "\n",
    "def add2(num):  # 계산기2\n",
    "    global result2\n",
    "    result2 += num\n",
    "    return result2\n",
    "\n",
    "print(add1(3))\n",
    "print(add1(4))\n",
    "print(add2(3))\n",
    "print(add2(7))\n",
    "\n",
    "#계산기가 3개, 5개, 10개로 점점 더 많이 필요해진다면 어떻게 해야 할까? -> 이럴 때 클래스를 사용"
   ]
  },
  {
   "cell_type": "markdown",
   "metadata": {},
   "source": [
    "### 계산기가 3개, 5개, 10개로 점점 더 많이 필요해진다면 어떻게 해야 할까? \n",
    "-> 이럴 때 클래스를 사용 \n",
    "\n",
    "### 클래스 = 과자틀, \n",
    "### 과자 틀로 찍어낸 과자 = 객체\n",
    "\n",
    "클래스로 만든 객체는 객체마다 고유한 성격을 가진다\n",
    "\n",
    "# 객체와 인스턴스의 차이\n",
    "클래스로 만든 객체 = 인스턴스\n",
    "\n",
    "a = Cookie()로 만든 a는 객체이다.  \n",
    "그리고 a 객체는 Cookie의 인스턴스이다.  \n",
    "즉, 인스턴스라는 말은 특정 객체(a)가 어떤 클래스(Cookie)의 객체인지를  관계 위주로 설명할 때 사용  \n",
    "\n",
    "- 'a는 인스턴스'보다 'a는 객체'라는 표현이 어울린다.\n",
    "- 'a는 Cookie의 객체'보다 'a는 Cookie의 인스턴스'라는 표현이 어울린다.\n"
   ]
  },
  {
   "cell_type": "markdown",
   "metadata": {},
   "source": [
    "# 쉬운 예시로 먼저 살펴보자"
   ]
  },
  {
   "cell_type": "code",
   "execution_count": 7,
   "metadata": {},
   "outputs": [
    {
     "name": "stdout",
     "output_type": "stream",
     "text": [
      "검은색\n",
      "True\n"
     ]
    }
   ],
   "source": [
    "#쉬운 예제\n",
    "class BlackBox:\n",
    "    pass #아무것도 수행하지 않는 문법\n",
    "#현재 클래스(설계도)는 비어있는 상태\n",
    "\n",
    "b1=BlackBox() #b1이라는 객체 생성\n",
    "b1.name = '검은색'\n",
    "print(b1.name)\n",
    "print(isinstance(b1,BlackBox)) #b1이 BlackBox의 인스턴스인지 확인"
   ]
  },
  {
   "cell_type": "code",
   "execution_count": 14,
   "metadata": {},
   "outputs": [
    {
     "name": "stdout",
     "output_type": "stream",
     "text": [
      "검은색 1000\n",
      "노란색 2000\n"
     ]
    }
   ],
   "source": [
    "class BlackBox:\n",
    "    def __init__(self, name, price): #__init__함수는 객체가 생성될 때 자동으로 실행\n",
    "        self.name = name #self.name은 객체변수(멤버변수), name은 매개변수\n",
    "        self.price = price\n",
    "\n",
    "b1 = BlackBox('검은색', 1000)\n",
    "print(b1.name, b1.price)\n",
    "b2 = BlackBox('노란색', 2000) #b2라는 객체 생성, 설계도를 채웠기 때문에 b2.name, b2.price를 사용할 수 있음\n",
    "print(b2.name, b2.price)"
   ]
  },
  {
   "cell_type": "code",
   "execution_count": 17,
   "metadata": {},
   "outputs": [
    {
     "name": "stdout",
     "output_type": "stream",
     "text": [
      "20분 동안 여행모드 ON\n"
     ]
    }
   ],
   "source": [
    "class BlackBox:\n",
    "    def __init__(self, name, price):\n",
    "        self.name = name\n",
    "        self.price = price \n",
    "    def set_travel_mode(self, min): #메소드\n",
    "        print(str(min)+'분 동안 여행모드 ON')\n",
    "\n",
    "b1 = BlackBox('검은색', 1000)\n",
    "b1.set_travel_mode(20) #메소드 호출"
   ]
  },
  {
   "cell_type": "code",
   "execution_count": 19,
   "metadata": {},
   "outputs": [
    {
     "name": "stdout",
     "output_type": "stream",
     "text": [
      "20분 동안 여행모드 ON\n"
     ]
    }
   ],
   "source": [
    "class BlackBox:\n",
    "    def __init__(self, name, price):\n",
    "        self.name = name #멤버변수를 사용할때는 self.변수명\n",
    "        self.price = price \n",
    "    def set_travel_mode(self, min):\n",
    "        print(str(min)+'분 동안 여행모드 ON')\n",
    "\n",
    "BlackBox.set_travel_mode(b1, 20) #b1은 self로 20은 min으로 들어감\n",
    "#즉 위와 같은 코드"
   ]
  },
  {
   "cell_type": "code",
   "execution_count": 24,
   "metadata": {},
   "outputs": [
    {
     "name": "stdout",
     "output_type": "stream",
     "text": [
      "30분 동안 여행모드 ON\n"
     ]
    }
   ],
   "source": [
    "#기본 블랙박스와 여행모드지원 블랙박스의 init함수부분이 같다.\n",
    "#어떤 클래스로부터 상속 받은 클래스로 확장가능\n",
    "\n",
    "class TravelBlackBox(BlackBox): #자식 클래스(상속받는 클래스) / 위 기본 블랙박스는 부모클래스\n",
    "    def set_travel_mode(self, min):\n",
    "        print(str(min)+'분 동안 여행모드 ON')\n",
    "\n",
    "b1 = TravelBlackBox('검은색', 1000)\n",
    "b2 = BlackBox('노란색', 2000)\n",
    "\n",
    "#b1.set_travel_mode(20) = 사용불가\n",
    "b2.set_travel_mode(30)"
   ]
  },
  {
   "cell_type": "code",
   "execution_count": null,
   "metadata": {},
   "outputs": [],
   "source": [
    "#1번과 2번 두 클래스는 같은 클래스이다.\n",
    "#부모클래스의 init함수를 사용하고 싶다면 super()를 사용하면 된다.\n",
    "\n",
    "'''\n",
    "1.\n",
    "class TravelBlackBox(BlackBox):\n",
    "    def __init__(self, name, price, sd):\n",
    "        BlackBox.__init__(self,name,price):\n",
    "        self.sd = sd\n",
    "    def set_travel_mode(self, min):\n",
    "        print(str(min)+'분 동안 여행모드 ON')\n",
    "'''\n",
    "'''\n",
    "2.\n",
    "class TravelBlackBox(BlackBox):\n",
    "    def __init__(self, name, price, sd):\n",
    "        super().__init__(name,price): #super가 의미하는 것도 부모클래스\n",
    "        self.sd = sd\n",
    "    def set_travel_mode(self, min):\n",
    "        print(str(min)+'분 동안 여행모드 ON')\n",
    "'''"
   ]
  },
  {
   "cell_type": "code",
   "execution_count": 29,
   "metadata": {},
   "outputs": [
    {
     "ename": "NameError",
     "evalue": "name 'VideoMaker' is not defined",
     "output_type": "error",
     "traceback": [
      "\u001b[0;31m---------------------------------------------------------------------------\u001b[0m",
      "\u001b[0;31mNameError\u001b[0m                                 Traceback (most recent call last)",
      "\u001b[1;32m/Users/junhyeong/Library/Mobile Documents/com~apple~CloudDocs/GIthub/Datamining-with-python/Datamining/class.ipynb 셀 11\u001b[0m line \u001b[0;36m3\n\u001b[1;32m      <a href='vscode-notebook-cell:/Users/junhyeong/Library/Mobile%20Documents/com~apple~CloudDocs/GIthub/Datamining-with-python/Datamining/class.ipynb#X24sZmlsZQ%3D%3D?line=0'>1</a>\u001b[0m \u001b[39m#다중 상속\u001b[39;00m\n\u001b[0;32m----> <a href='vscode-notebook-cell:/Users/junhyeong/Library/Mobile%20Documents/com~apple~CloudDocs/GIthub/Datamining-with-python/Datamining/class.ipynb#X24sZmlsZQ%3D%3D?line=2'>3</a>\u001b[0m \u001b[39mclass\u001b[39;00m \u001b[39mTravelBlackBox\u001b[39;00m(BlackBox, VideoMaker, MailSender): \u001b[39m#여러 클래스를 상속받을 수 있다.\u001b[39;00m\n\u001b[1;32m      <a href='vscode-notebook-cell:/Users/junhyeong/Library/Mobile%20Documents/com~apple~CloudDocs/GIthub/Datamining-with-python/Datamining/class.ipynb#X24sZmlsZQ%3D%3D?line=3'>4</a>\u001b[0m     \u001b[39mdef\u001b[39;00m \u001b[39m__init__\u001b[39m(\u001b[39mself\u001b[39m, name, price, sd):\n\u001b[1;32m      <a href='vscode-notebook-cell:/Users/junhyeong/Library/Mobile%20Documents/com~apple~CloudDocs/GIthub/Datamining-with-python/Datamining/class.ipynb#X24sZmlsZQ%3D%3D?line=4'>5</a>\u001b[0m         \u001b[39msuper\u001b[39m()\u001b[39m.\u001b[39m\u001b[39m__init__\u001b[39m(name,price)\n",
      "\u001b[0;31mNameError\u001b[0m: name 'VideoMaker' is not defined"
     ]
    }
   ],
   "source": [
    "#다중 상속\n",
    "\n",
    "class TravelBlackBox(BlackBox, VideoMaker, MailSender): #여러 클래스를 상속받을 수 있다.\n",
    "    def __init__(self, name, price, sd):\n",
    "        super().__init__(name,price)\n",
    "        self.sd = sd\n",
    "    def set_travel_mode(self, min):\n",
    "        print(str(min)+'분 동안 여행모드 ON')\n",
    "\n",
    "class VideoMaker:\n",
    "    def make(self):\n",
    "        print('추억용 여행 영상제작')\n",
    "\n",
    "class MailSender:\n",
    "    def send(self):\n",
    "        print('여행 영상을 보냅니다.')\n",
    "\n",
    "b1 = TravelBlackBox('검은색', 1000, 32)\n",
    "b1.make() #VideoMaker의 메소드, 추억용 여행 영상제작\n",
    "b1.send() #MailSender의 메소드, 여행 영상을 보냅니다.\n"
   ]
  },
  {
   "cell_type": "code",
   "execution_count": 31,
   "metadata": {},
   "outputs": [
    {
     "ename": "NameError",
     "evalue": "name 'VideoMaker' is not defined",
     "output_type": "error",
     "traceback": [
      "\u001b[0;31m---------------------------------------------------------------------------\u001b[0m",
      "\u001b[0;31mNameError\u001b[0m                                 Traceback (most recent call last)",
      "\u001b[1;32m/Users/junhyeong/Library/Mobile Documents/com~apple~CloudDocs/GIthub/Datamining-with-python/Datamining/class.ipynb 셀 12\u001b[0m line \u001b[0;36m3\n\u001b[1;32m      <a href='vscode-notebook-cell:/Users/junhyeong/Library/Mobile%20Documents/com~apple~CloudDocs/GIthub/Datamining-with-python/Datamining/class.ipynb#X26sZmlsZQ%3D%3D?line=0'>1</a>\u001b[0m \u001b[39m#다중 상속\u001b[39;00m\n\u001b[0;32m----> <a href='vscode-notebook-cell:/Users/junhyeong/Library/Mobile%20Documents/com~apple~CloudDocs/GIthub/Datamining-with-python/Datamining/class.ipynb#X26sZmlsZQ%3D%3D?line=2'>3</a>\u001b[0m \u001b[39mclass\u001b[39;00m \u001b[39mTravelBlackBox\u001b[39;00m(BlackBox, VideoMaker, MailSender): \u001b[39m#여러 클래스를 상속받을 수 있다.\u001b[39;00m\n\u001b[1;32m      <a href='vscode-notebook-cell:/Users/junhyeong/Library/Mobile%20Documents/com~apple~CloudDocs/GIthub/Datamining-with-python/Datamining/class.ipynb#X26sZmlsZQ%3D%3D?line=3'>4</a>\u001b[0m     \u001b[39mdef\u001b[39;00m \u001b[39m__init__\u001b[39m(\u001b[39mself\u001b[39m, name, price, sd):\n\u001b[1;32m      <a href='vscode-notebook-cell:/Users/junhyeong/Library/Mobile%20Documents/com~apple~CloudDocs/GIthub/Datamining-with-python/Datamining/class.ipynb#X26sZmlsZQ%3D%3D?line=4'>5</a>\u001b[0m         \u001b[39msuper\u001b[39m()\u001b[39m.\u001b[39m\u001b[39m__init__\u001b[39m(name,price)\n",
      "\u001b[0;31mNameError\u001b[0m: name 'VideoMaker' is not defined"
     ]
    }
   ],
   "source": [
    "#다중 상속\n",
    "\n",
    "class TravelBlackBox(BlackBox, VideoMaker, MailSender): #여러 클래스를 상속받을 수 있다.\n",
    "    def __init__(self, name, price, sd):\n",
    "        super().__init__(name,price)\n",
    "        self.sd = sd\n",
    "    def set_travel_mode(self, min):\n",
    "        print(str(min)+'분 동안 여행모드 ON')\n",
    "\n",
    "class VideoMaker:\n",
    "    def make(self):\n",
    "        print('추억용 여행 영상제작')\n",
    "\n",
    "class MailSender:\n",
    "    def send(self):\n",
    "        print('여행 영상을 보냅니다.')\n",
    "\n",
    "\n",
    "class AdvancedTravelBlackBox(TravelBlackBox):\n",
    "    def set_travel_mode(self, min):\n",
    "        print(str(min)+'분 동안 여행모드 ON')\n",
    "        self.make()\n",
    "        self.send()\n",
    "\n",
    "# -> 메소드 오버라이딩 : 부모클래스의 메소드를 자식클래스에서 재정의\n",
    "#부모클래스인 TravelBlackBox의 set_travel_mode메소드를 재정의(즉, 덮어쓰기)\n",
    "\n",
    "b1 = AdvancedTravelBlackBox('검은색', 1000, 32)\n",
    "b1.set_travel_mode(30)\n",
    "\n",
    "b2 = AdvancedTravelBlackBox('노란색', 2000, 64)\n",
    "b2.set_travel_mode(30)"
   ]
  },
  {
   "cell_type": "markdown",
   "metadata": {},
   "source": []
  },
  {
   "cell_type": "markdown",
   "metadata": {},
   "source": [
    "# 사칙연산 프로그램 예제"
   ]
  },
  {
   "cell_type": "code",
   "execution_count": 12,
   "metadata": {},
   "outputs": [
    {
     "data": {
      "text/plain": [
       "12"
      ]
     },
     "execution_count": 12,
     "metadata": {},
     "output_type": "execute_result"
    }
   ],
   "source": [
    "class FourCal: \n",
    "    def setdata(self, first, second): #setdata 매서드 추가\n",
    "        self.first = first \n",
    "        self.second = second\n",
    "    def add(self): #add 매서드 추가\n",
    "        result = self.first + self.second #self는 객체 a\n",
    "        return result\n",
    "     \n",
    "a = FourCal()\n",
    "a.setdata(10,2)\n",
    "a.add()\n"
   ]
  },
  {
   "cell_type": "markdown",
   "metadata": {},
   "source": [
    "## 곱하기, 빼기, 나누기 기능 만들기"
   ]
  },
  {
   "cell_type": "code",
   "execution_count": 5,
   "metadata": {},
   "outputs": [
    {
     "data": {
      "text/plain": [
       "6"
      ]
     },
     "execution_count": 5,
     "metadata": {},
     "output_type": "execute_result"
    }
   ],
   "source": [
    "class FourCal:\n",
    "    def setdata(self, first, second):\n",
    "        self.first = first\n",
    "        self.second = second\n",
    "    def add(self):\n",
    "        result = self.first + self.second\n",
    "        return result\n",
    "    def mul(self):\n",
    "        result = self.first * self.second\n",
    "        return result\n",
    "    def sub(self):\n",
    "        result = self.first - self.second\n",
    "        return result\n",
    "    def div(self):\n",
    "        result = self.first / self.second\n",
    "        return result\n",
    "\n",
    "a = FourCal()\n",
    "b = FourCal()\n",
    "a.setdata(4,2)\n",
    "b.setdata(3,8)\n",
    "\n",
    "a.add()\n",
    "a.mul()\n",
    "a.sub()\n",
    "a.div()\n",
    "\n",
    "b.add()\n",
    "b.mul()\n",
    "b.sub()\n",
    "b.div()\n",
    "\n"
   ]
  },
  {
   "cell_type": "markdown",
   "metadata": {},
   "source": [
    "## 생성자\n",
    "객체가 생성될 때 자동으로 호출되는 메서드를 의미한다.  \n",
    "파이썬 메서드명으로 __init__를 사용하면 이 메서드는 생성자가 된다."
   ]
  },
  {
   "cell_type": "code",
   "execution_count": null,
   "metadata": {},
   "outputs": [],
   "source": [
    "class FourCal:\n",
    "    def __init__(self, first, second): #생성자(Constructor)\n",
    "        self.first = first \n",
    "        self.second = second\n",
    "    def setdata(self, first, second):\n",
    "        self.first = first\n",
    "        self.second = second\n",
    "    def add(self):\n",
    "        result = self.first + self.second\n",
    "        return result\n",
    "    def mul(self):\n",
    "        result = self.first * self.second\n",
    "        return result\n",
    "    def sub(self):\n",
    "        result = self.first - self.second\n",
    "        return result\n",
    "    def div(self):\n",
    "        result = self.first / self.second\n",
    "        return result"
   ]
  },
  {
   "cell_type": "markdown",
   "metadata": {},
   "source": [
    "위 코드에서 __init__ 메서드는 setdata 메서드와 이름만 다르고 모든 게 동일하다.  \n",
    "단, 메서드 이름을 __init__로 했기 때문에 생성자로 인식되어 객체가 생성되는 시점에 자동으로 호출된다는 차이가 있다."
   ]
  },
  {
   "cell_type": "markdown",
   "metadata": {},
   "source": []
  }
 ],
 "metadata": {
  "kernelspec": {
   "display_name": "base",
   "language": "python",
   "name": "python3"
  },
  "language_info": {
   "codemirror_mode": {
    "name": "ipython",
    "version": 3
   },
   "file_extension": ".py",
   "mimetype": "text/x-python",
   "name": "python",
   "nbconvert_exporter": "python",
   "pygments_lexer": "ipython3",
   "version": "3.11.5"
  }
 },
 "nbformat": 4,
 "nbformat_minor": 2
}
